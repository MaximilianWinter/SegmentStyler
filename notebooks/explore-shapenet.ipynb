{
 "cells": [
  {
   "cell_type": "code",
   "execution_count": 1,
   "metadata": {},
   "outputs": [],
   "source": [
    "%load_ext autoreload\n",
    "%autoreload 2"
   ]
  },
  {
   "cell_type": "code",
   "execution_count": 48,
   "metadata": {},
   "outputs": [],
   "source": [
    "import pathlib\n",
    "import numpy as np\n",
    "from src.visualization import visualize_pointcloud,visualize_pointclouds_parts, visualize_mesh\n",
    "import trimesh\n",
    "\n",
    "root = pathlib.Path(\"/mnt/hdd/shapenetcore_partanno_segmentation_benchmark_v0/03001627/\")\n",
    "shapenet_root = pathlib.Path(\"/mnt/hdd/ShapeNetCore.v2/03001627/\")\n"
   ]
  },
  {
   "cell_type": "code",
   "execution_count": 49,
   "metadata": {},
   "outputs": [
    {
     "data": {
      "text/plain": [
       "PosixPath('/mnt/hdd/shapenetcore_partanno_segmentation_benchmark_v0/03001627')"
      ]
     },
     "execution_count": 49,
     "metadata": {},
     "output_type": "execute_result"
    }
   ],
   "source": [
    "root"
   ]
  },
  {
   "cell_type": "code",
   "execution_count": 71,
   "metadata": {},
   "outputs": [
    {
     "name": "stderr",
     "output_type": "stream",
     "text": [
      "WARNING - 2022-11-03 01:44:16,130 - obj - specified material (material_1_24)  not loaded!\n",
      "WARNING - 2022-11-03 01:44:16,139 - obj - specified material (material_2_24)  not loaded!\n",
      "WARNING - 2022-11-03 01:44:16,167 - obj - specified material (material_1_24)  not loaded!\n",
      "WARNING - 2022-11-03 01:44:28,335 - obj - specified material (material_0_24)  not loaded!\n",
      "WARNING - 2022-11-03 01:44:28,363 - obj - specified material (material_0_24)  not loaded!\n",
      "WARNING - 2022-11-03 01:44:28,374 - obj - specified material (material_0_24)  not loaded!\n"
     ]
    }
   ],
   "source": [
    "n_max = 5\n",
    "points = []\n",
    "labels = []\n",
    "meshes = []\n",
    "\n",
    "for i, point_path in enumerate(root.joinpath(\"points\").iterdir()):\n",
    "    if i == n_max:\n",
    "        break\n",
    "    \n",
    "    points.append(np.loadtxt(point_path))\n",
    "    labels.append(np.loadtxt(root.joinpath(\"points_label\").joinpath(point_path.stem).with_suffix(\".seg\"), dtype=int))\n",
    "\n",
    "    with open(shapenet_root.joinpath(point_path.stem).joinpath(\"models\").joinpath(\"model_normalized.obj\")) as fp:\n",
    "        meshes.append(trimesh.exchange.obj.load_obj(fp, include_color=False, include_texture=False))"
   ]
  },
  {
   "cell_type": "code",
   "execution_count": 72,
   "metadata": {},
   "outputs": [
    {
     "data": {
      "application/vnd.jupyter.widget-view+json": {
       "model_id": "c550ae5d85d6432db5a669136a7063bb",
       "version_major": 2,
       "version_minor": 0
      },
      "text/plain": [
       "Output()"
      ]
     },
     "metadata": {},
     "output_type": "display_data"
    }
   ],
   "source": [
    "visualize_pointclouds_parts(points, labels)"
   ]
  },
  {
   "cell_type": "code",
   "execution_count": 77,
   "metadata": {},
   "outputs": [
    {
     "name": "stdout",
     "output_type": "stream",
     "text": [
      "dict_keys(['geometry', 'graph'])\n",
      "dict_keys(['geometry', 'graph'])\n",
      "dict_keys(['include_color', 'include_texture', 'faces', 'vertices', 'vertex_normals', 'visual'])\n",
      "dict_keys(['include_color', 'include_texture', 'faces', 'vertices', 'vertex_normals', 'visual'])\n",
      "dict_keys(['geometry', 'graph'])\n"
     ]
    }
   ],
   "source": [
    "for i in range(5):\n",
    "    print(meshes[i].keys())"
   ]
  },
  {
   "cell_type": "code",
   "execution_count": 79,
   "metadata": {},
   "outputs": [
    {
     "data": {
      "text/plain": [
       "[{'geometry': 'material_1_24',\n",
       "  'frame_to': 'material_1_24',\n",
       "  'matrix': array([[1., 0., 0., 0.],\n",
       "         [0., 1., 0., 0.],\n",
       "         [0., 0., 1., 0.],\n",
       "         [0., 0., 0., 1.]])},\n",
       " {'geometry': 'material_2_24',\n",
       "  'frame_to': 'material_2_24',\n",
       "  'matrix': array([[1., 0., 0., 0.],\n",
       "         [0., 1., 0., 0.],\n",
       "         [0., 0., 1., 0.],\n",
       "         [0., 0., 0., 1.]])},\n",
       " {'geometry': 'material_0_1_8',\n",
       "  'frame_to': 'material_0_1_8',\n",
       "  'matrix': array([[1., 0., 0., 0.],\n",
       "         [0., 1., 0., 0.],\n",
       "         [0., 0., 1., 0.],\n",
       "         [0., 0., 0., 1.]])}]"
      ]
     },
     "execution_count": 79,
     "metadata": {},
     "output_type": "execute_result"
    }
   ],
   "source": [
    "meshes[0][\"graph\"]"
   ]
  },
  {
   "cell_type": "code",
   "execution_count": 66,
   "metadata": {},
   "outputs": [
    {
     "data": {
      "application/vnd.jupyter.widget-view+json": {
       "model_id": "f0993989cb7e48089ed8dbcf247e9659",
       "version_major": 2,
       "version_minor": 0
      },
      "text/plain": [
       "Output()"
      ]
     },
     "metadata": {},
     "output_type": "display_data"
    },
    {
     "data": {
      "application/vnd.jupyter.widget-view+json": {
       "model_id": "717e22593ea84de5a19d656f3cd26a61",
       "version_major": 2,
       "version_minor": 0
      },
      "text/plain": [
       "Output()"
      ]
     },
     "metadata": {},
     "output_type": "display_data"
    },
    {
     "data": {
      "application/vnd.jupyter.widget-view+json": {
       "model_id": "f02cecf689ff422590e9d26b50cbf824",
       "version_major": 2,
       "version_minor": 0
      },
      "text/plain": [
       "Output()"
      ]
     },
     "metadata": {},
     "output_type": "display_data"
    }
   ],
   "source": [
    "visualize_mesh(meshes[0][\"geometry\"][\"material_1_24\"][\"vertices\"], meshes[0][\"geometry\"][\"material_1_24\"][\"faces\"])\n",
    "visualize_mesh(meshes[0][\"geometry\"][\"material_2_24\"][\"vertices\"], meshes[0][\"geometry\"][\"material_2_24\"][\"faces\"])\n",
    "visualize_mesh(meshes[0][\"geometry\"][\"material_0_1_8\"][\"vertices\"], meshes[0][\"geometry\"][\"material_0_1_8\"][\"faces\"])"
   ]
  },
  {
   "cell_type": "code",
   "execution_count": 45,
   "metadata": {},
   "outputs": [
    {
     "data": {
      "text/plain": [
       "PosixPath('/mnt/hdd/shapenetcore_partanno_segmentation_benchmark_v0/03001627/points/e8dc06c3d01d6592f4b6538438a0b930.pts')"
      ]
     },
     "execution_count": 45,
     "metadata": {},
     "output_type": "execute_result"
    }
   ],
   "source": [
    "point_path"
   ]
  },
  {
   "cell_type": "code",
   "execution_count": 6,
   "metadata": {},
   "outputs": [
    {
     "name": "stderr",
     "output_type": "stream",
     "text": [
      "INFO - 2022-11-03 00:56:10,423 - utils - Note: NumExpr detected 16 cores but \"NUMEXPR_MAX_THREADS\" not set, so enforcing safe limit of 8.\n",
      "INFO - 2022-11-03 00:56:10,423 - utils - NumExpr defaulting to 8 threads.\n"
     ]
    }
   ],
   "source": [
    "import open3d as o3d\n",
    "from open3d import JVisualizer"
   ]
  },
  {
   "cell_type": "code",
   "execution_count": 22,
   "metadata": {},
   "outputs": [],
   "source": [
    "pcd = o3d.geometry.PointCloud()\n",
    "pcd.points = o3d.utility.Vector3dVector(points[0])"
   ]
  },
  {
   "cell_type": "code",
   "execution_count": 23,
   "metadata": {},
   "outputs": [],
   "source": [
    "pcd.estimate_normals()\n",
    "pcd.orient_normals_consistent_tangent_plane(100)"
   ]
  },
  {
   "cell_type": "code",
   "execution_count": 29,
   "metadata": {},
   "outputs": [
    {
     "name": "stdout",
     "output_type": "stream",
     "text": [
      "run Poisson surface reconstruction\n",
      "[Open3D DEBUG] Input Points / Samples: 2626 / 2626\n",
      "[Open3D DEBUG] #   Got kernel density: 0.0595992 (s), 307.324 (MB) / 307.324 (MB) / 307 (MB)\n",
      "[Open3D DEBUG] #     Got normal field: 0.0156589 (s), 320.203 (MB) / 320.203 (MB) / 320 (MB)\n",
      "[Open3D DEBUG] Point weight / Estimated Area: 4.473238e-04 / 1.174672e+00\n",
      "[Open3D DEBUG] #       Finalized tree: 0.0726418 (s), 339.023 (MB) / 339.023 (MB) / 339 (MB)\n",
      "[Open3D DEBUG] #  Set FEM constraints: 0.0648761 (s), 324.199 (MB) / 339.023 (MB) / 339 (MB)\n",
      "[Open3D DEBUG] #Set point constraints: 0.00894594 (s), 324.199 (MB) / 339.023 (MB) / 339 (MB)\n",
      "[Open3D DEBUG] Leaf Nodes / Active Nodes / Ghost Nodes: 569388 / 88032 / 562697\n",
      "[Open3D DEBUG] Memory Usage: 324.199 MB\n",
      "Cycle[0] Depth[ 0/12]:\tUpdated constraints / Got system / Solved in:  0.000 /  0.000 /  0.000\t(324.199 MB)\tNodes: 8\n",
      "CG: 4.9575e-01 -> 4.9575e-01 -> 3.3031e-04 (6.7e-04) [0]\n",
      "Cycle[0] Depth[ 1/12]:\tUpdated constraints / Got system / Solved in:  0.001 /  0.000 /  0.000\t(324.199 MB)\tNodes: 27\n",
      "  GS: 8.8221e-01 -> 8.8221e-01 -> 2.1046e-04 (2.4e-04) [8]\n",
      "Cycle[0] Depth[ 2/12]:\tUpdated constraints / Got system / Solved in:  0.001 /  0.000 /  0.000\t(324.199 MB)\tNodes: 125\n",
      "    GS: 8.2867e-01 -> 8.2867e-01 -> 3.8674e-04 (4.7e-04) [8]\n",
      "Cycle[0] Depth[ 3/12]:\tUpdated constraints / Got system / Solved in:  0.001 /  0.002 /  0.000\t(324.199 MB)\tNodes: 729\n",
      "      GS: 8.5893e-01 -> 8.5893e-01 -> 7.8510e-03 (9.1e-03) [8]\n",
      "Cycle[0] Depth[ 4/12]:\tUpdated constraints / Got system / Solved in:  0.001 /  0.006 /  0.002\t(324.199 MB)\tNodes: 4913\n",
      "        GS: 8.0489e-01 -> 8.0489e-01 -> 4.2352e-03 (5.3e-03) [8]\n",
      "Cycle[0] Depth[ 5/12]:\tUpdated constraints / Got system / Solved in:  0.001 /  0.011 /  0.010\t(324.199 MB)\tNodes: 35937\n",
      "          GS: 6.4909e-01 -> 6.4909e-01 -> 6.3811e-03 (9.8e-03) [8]\n",
      "Cycle[0] Depth[ 6/12]:\tUpdated constraints / Got system / Solved in:  0.001 /  0.005 /  0.007\t(324.199 MB)\tNodes: 18112\n",
      "            GS: 3.5083e-01 -> 3.5083e-01 -> 6.3224e-04 (1.8e-03) [8]\n",
      "Cycle[0] Depth[ 7/12]:\tUpdated constraints / Got system / Solved in:  0.001 /  0.003 /  0.001\t(324.199 MB)\tNodes: 3032\n",
      "              GS: 8.7591e-02 -> 8.7591e-02 -> 6.0128e-06 (6.9e-05) [8]\n",
      "Cycle[0] Depth[ 8/12]:\tUpdated constraints / Got system / Solved in:  0.002 /  0.002 /  0.001\t(324.199 MB)\tNodes: 0\n",
      "                GS: 0.0000e+00 -> 0.0000e+00 -> 0.0000e+00 (-nan) [8]\n",
      "Cycle[0] Depth[ 9/12]:\tUpdated constraints / Got system / Solved in:  0.003 /  0.004 /  0.001\t(324.199 MB)\tNodes: 0\n",
      "                  GS: 0.0000e+00 -> 0.0000e+00 -> 0.0000e+00 (-nan) [8]\n",
      "Cycle[0] Depth[10/12]:\tUpdated constraints / Got system / Solved in:  0.006 /  0.009 /  0.002\t(324.199 MB)\tNodes: 0\n",
      "                    GS: 0.0000e+00 -> 0.0000e+00 -> 0.0000e+00 (-nan) [8]\n",
      "Cycle[0] Depth[11/12]:\tUpdated constraints / Got system / Solved in:  0.011 /  0.017 /  0.004\t(324.199 MB)\tNodes: 0\n",
      "                      GS: 0.0000e+00 -> 0.0000e+00 -> 0.0000e+00 (-nan) [8]\n",
      "Cycle[0] Depth[12/12]:\tUpdated constraints / Got system / Solved in:  0.010 /  0.036 /  0.009\t(324.199 MB)\tNodes: 0\n",
      "                        GS: 0.0000e+00 -> 0.0000e+00 -> 0.0000e+00 (-nan) [8]\n",
      "[Open3D DEBUG] # Linear system solved: 0.237039 (s), 324.199 (MB) / 339.023 (MB) / 339 (MB)\n",
      "[Open3D DEBUG] Got average: 0.00410891 (s), 324.199 (MB) / 339.023 (MB) / 339 (MB)\n",
      "[Open3D DEBUG] Iso-Value: 4.986946e-01 = 1.309572e+03 / 2.626000e+03\n",
      "[Open3D DEBUG] #          Total Solve:       6.8 (s),     339.0 (MB)\n"
     ]
    }
   ],
   "source": [
    "print('run Poisson surface reconstruction')\n",
    "with o3d.utility.VerbosityContextManager(\n",
    "        o3d.utility.VerbosityLevel.Debug) as cm:\n",
    "    mesh, densities = o3d.geometry.TriangleMesh.create_from_point_cloud_poisson(\n",
    "        pcd, depth=12)"
   ]
  },
  {
   "cell_type": "code",
   "execution_count": 36,
   "metadata": {},
   "outputs": [],
   "source": [
    "alpha=0.15\n",
    "mesh = o3d.geometry.TriangleMesh.create_from_point_cloud_alpha_shape(pcd, alpha)"
   ]
  },
  {
   "cell_type": "code",
   "execution_count": 41,
   "metadata": {},
   "outputs": [],
   "source": [
    "radii = [0.005, 0.01, 0.02, 0.04, 0.08]\n",
    "mesh = o3d.geometry.TriangleMesh.create_from_point_cloud_ball_pivoting(\n",
    "    pcd, o3d.utility.DoubleVector(radii))"
   ]
  },
  {
   "cell_type": "code",
   "execution_count": 42,
   "metadata": {},
   "outputs": [
    {
     "data": {
      "application/vnd.jupyter.widget-view+json": {
       "model_id": "8064f4a881a9437e98fdf01b95745ac0",
       "version_major": 2,
       "version_minor": 0
      },
      "text/plain": [
       "Output()"
      ]
     },
     "metadata": {},
     "output_type": "display_data"
    }
   ],
   "source": [
    "visualize_mesh(np.asarray(mesh.vertices), np.asarray(mesh.triangles))"
   ]
  },
  {
   "cell_type": "code",
   "execution_count": null,
   "metadata": {},
   "outputs": [],
   "source": []
  }
 ],
 "metadata": {
  "kernelspec": {
   "display_name": "Python 3.8.10 ('dl3d')",
   "language": "python",
   "name": "python3"
  },
  "language_info": {
   "codemirror_mode": {
    "name": "ipython",
    "version": 3
   },
   "file_extension": ".py",
   "mimetype": "text/x-python",
   "name": "python",
   "nbconvert_exporter": "python",
   "pygments_lexer": "ipython3",
   "version": "3.8.10"
  },
  "orig_nbformat": 4,
  "vscode": {
   "interpreter": {
    "hash": "dd06f6ed071b43baaf19fe8825ab4e6c1d0ef7883a3c67075da90a60665c2473"
   }
  }
 },
 "nbformat": 4,
 "nbformat_minor": 2
}
