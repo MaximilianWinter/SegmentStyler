{
 "cells": [
  {
   "cell_type": "code",
   "execution_count": 1,
   "metadata": {},
   "outputs": [],
   "source": [
    "%load_ext autoreload\n",
    "%autoreload 2"
   ]
  },
  {
   "cell_type": "code",
   "execution_count": 2,
   "metadata": {},
   "outputs": [],
   "source": [
    "import shutil\n",
    "import numpy as np\n",
    "import os\n",
    "import h5py\n",
    "from src.helper.paths import BASELINES_PATH\n",
    "from partglot.utils.simple_utils import unpickle_data, pickle_data\n",
    "from src.helper.visualization import visualize_pointcloud, visualize_pointclouds_parts_partglot"
   ]
  },
  {
   "cell_type": "code",
   "execution_count": 3,
   "metadata": {},
   "outputs": [
    {
     "data": {
      "text/plain": [
       "PosixPath('/home/bellatini/DL3D-Practical/Baselines/PartGlot/data/single/shapenet_partseg_chair_label_and_sd.pkl')"
      ]
     },
     "execution_count": 3,
     "metadata": {},
     "output_type": "execute_result"
    }
   ],
   "source": [
    "src_data_dir = BASELINES_PATH / 'PartGlot/data'\n",
    "dst_data_dir = BASELINES_PATH / 'PartGlot/data/single'\n",
    "\n",
    "shutil.copy(src_data_dir / \"shapenet_partseg_chair_bsp.h5\", dst_data_dir / \"shapenet_partseg_chair_bsp.h5\")\n",
    "shutil.copy(src_data_dir / \"shapenet_partseg_chair_label_and_sd.pkl\", dst_data_dir / \"shapenet_partseg_chair_label_and_sd.pkl\")"
   ]
  },
  {
   "cell_type": "code",
   "execution_count": 4,
   "metadata": {},
   "outputs": [],
   "source": [
    "h5_data = h5py.File(dst_data_dir / \"shapenet_partseg_chair_bsp.h5\", \"r+\")\n",
    "segs_data = h5_data[\"data\"][:].astype(np.float32)\n",
    "segs_mask = h5_data[\"mask\"][:].astype(np.float32)\n",
    "\n",
    "groundtruths, signed_distances = unpickle_data(dst_data_dir / \"shapenet_partseg_chair_label_and_sd.pkl\")"
   ]
  },
  {
   "cell_type": "code",
   "execution_count": 7,
   "metadata": {},
   "outputs": [
    {
     "data": {
      "text/plain": [
       "<HDF5 dataset \"data\": shape (2, 50, 512, 3), type \"<f8\">"
      ]
     },
     "execution_count": 7,
     "metadata": {},
     "output_type": "execute_result"
    }
   ],
   "source": [
    "tmp = h5_data[\"data\"][:2]\n",
    "del h5_data[\"data\"] \n",
    "h5_data.create_dataset(\"data\", data=tmp)"
   ]
  },
  {
   "cell_type": "code",
   "execution_count": 8,
   "metadata": {},
   "outputs": [
    {
     "data": {
      "text/plain": [
       "<HDF5 dataset \"mask\": shape (2, 50), type \"<i8\">"
      ]
     },
     "execution_count": 8,
     "metadata": {},
     "output_type": "execute_result"
    }
   ],
   "source": [
    "tmp = h5_data[\"mask\"][:2]\n",
    "del h5_data[\"mask\"] \n",
    "h5_data.create_dataset(\"mask\", data=tmp)"
   ]
  },
  {
   "cell_type": "code",
   "execution_count": 9,
   "metadata": {},
   "outputs": [],
   "source": [
    "h5_data.close()"
   ]
  },
  {
   "cell_type": "code",
   "execution_count": 12,
   "metadata": {},
   "outputs": [],
   "source": [
    "groundtruths = groundtruths[:2]\n",
    "signed_distances = signed_distances[:2]"
   ]
  },
  {
   "cell_type": "code",
   "execution_count": 13,
   "metadata": {},
   "outputs": [],
   "source": [
    "pickle_data(dst_data_dir / \"shapenet_partseg_chair_label_and_sd.pkl\", groundtruths, signed_distances)"
   ]
  },
  {
   "cell_type": "code",
   "execution_count": 14,
   "metadata": {},
   "outputs": [
    {
     "data": {
      "text/plain": [
       "'3746 samples'"
      ]
     },
     "execution_count": 14,
     "metadata": {},
     "output_type": "execute_result"
    }
   ],
   "source": [
    "f\"{segs_data.shape[0]} samples\""
   ]
  },
  {
   "cell_type": "code",
   "execution_count": 15,
   "metadata": {},
   "outputs": [
    {
     "data": {
      "text/plain": [
       "3746"
      ]
     },
     "execution_count": 15,
     "metadata": {},
     "output_type": "execute_result"
    }
   ],
   "source": [
    "len(segs_mask)"
   ]
  },
  {
   "cell_type": "code",
   "execution_count": 16,
   "metadata": {},
   "outputs": [
    {
     "name": "stdout",
     "output_type": "stream",
     "text": [
      "i={i}, segs_data[i].shape, segs_mask[i].shape, groundtruths[i].shape, np.unique(groundtruths[0]), signed_distances[i].shape, segs_mask[i].sum()\n",
      "i=0 (50, 512, 3) (50,) (2691,) [0. 1. 2.] (2691, 25) 25.0\n",
      "i=1 (50, 512, 3) (50,) (2755,) [0. 1. 2.] (2755, 16) 16.0\n"
     ]
    }
   ],
   "source": [
    "print(\"i={i}, segs_data[i].shape, segs_mask[i].shape, groundtruths[i].shape, np.unique(groundtruths[0]), signed_distances[i].shape, segs_mask[i].sum()\")\n",
    "for i in range(2):\n",
    "    print(f\"i={i}\", segs_data[i].shape, segs_mask[i].shape, groundtruths[i].shape, np.unique(groundtruths[0]), signed_distances[i].shape, segs_mask[i].sum())"
   ]
  },
  {
   "cell_type": "code",
   "execution_count": 17,
   "metadata": {},
   "outputs": [
    {
     "data": {
      "text/plain": [
       "(array([2., 2., 1., ..., 1., 0., 2.]),\n",
       " array([[-0.35771083, -0.43322745, -0.01597902, ..., -0.4374695 ,\n",
       "         -0.33557525, -0.01126467],\n",
       "        [-0.36145894, -0.35338036, -0.13286862, ..., -0.4243072 ,\n",
       "         -0.31539087,  0.00559162],\n",
       "        [-0.07137045, -0.25126013, -0.35033128, ..., -0.13167291,\n",
       "         -0.06351087, -0.35956461],\n",
       "        ...,\n",
       "        [-0.15504879, -0.04712584, -0.35585565, ..., -0.1324528 ,\n",
       "         -0.00201913, -0.32383671],\n",
       "        [-0.19709464, -0.01711427, -0.44673964, ..., -0.09241462,\n",
       "         -0.0885952 , -0.40675186],\n",
       "        [-0.37528644, -0.43743455,  0.00807282, ..., -0.45631713,\n",
       "         -0.29880813, -0.17426545]]))"
      ]
     },
     "execution_count": 17,
     "metadata": {},
     "output_type": "execute_result"
    }
   ],
   "source": [
    "groundtruths[0], signed_distances[0]"
   ]
  }
 ],
 "metadata": {
  "kernelspec": {
   "display_name": "Python 3.9.13 ('dl3d')",
   "language": "python",
   "name": "python3"
  },
  "language_info": {
   "codemirror_mode": {
    "name": "ipython",
    "version": 3
   },
   "file_extension": ".py",
   "mimetype": "text/x-python",
   "name": "python",
   "nbconvert_exporter": "python",
   "pygments_lexer": "ipython3",
   "version": "3.9.13"
  },
  "orig_nbformat": 4,
  "vscode": {
   "interpreter": {
    "hash": "5edac632bc030e698bde792f49d6429b3d15e7fbac06b4787d1057cf5bdd41d1"
   }
  }
 },
 "nbformat": 4,
 "nbformat_minor": 2
}
