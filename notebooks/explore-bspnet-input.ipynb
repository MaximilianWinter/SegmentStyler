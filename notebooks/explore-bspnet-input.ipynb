{
    "cells": [
        {
            "cell_type": "code",
            "execution_count": 12,
            "metadata": {},
            "outputs": [
                {
                    "name": "stdout",
                    "output_type": "stream",
                    "text": [
                        "Visualization rendering started...\n"
                    ]
                },
                {
                    "name": "stderr",
                    "output_type": "stream",
                    "text": [
                        "/tmp/ipykernel_1306843/1231789979.py:37: VisibleDeprecationWarning: Creating an ndarray from ragged nested sequences (which is a list-or-tuple of lists-or-tuples-or ndarrays with different lengths or shapes) is deprecated. If you meant to do this, you must specify 'dtype=object' when creating the ndarray.\n",
                        "  segmented_pc = np.array([\n"
                    ]
                },
                {
                    "data": {
                        "application/vnd.jupyter.widget-view+json": {
                            "model_id": "122ae17911104b9d90b6291d7c37c713",
                            "version_major": 2,
                            "version_minor": 0
                        },
                        "text/plain": [
                            "Output()"
                        ]
                    },
                    "metadata": {},
                    "output_type": "display_data"
                }
            ],
            "source": [
                "import h5py\n",
                "from src.helper.visualization import visualize_pointclouds_parts_partglot\n",
                "import numpy as np\n",
                "bsp_net_data_path = '/home/bellatini/DL3D-Practical/Baselines/BSP-NET-pytorch/data/data_per_category/03001627_seg_chair/03001627_seg256.hdf5'\n",
                "bsp_net_data_path = '/home/bellatini/DL3D-Practical/Baselines/BSP-NET-pytorch/data/data_per_category/03001627_chair/03001627_vox256_img_test.hdf5'\n",
                "cmap = [0xff0000, 0x00ff00, 0x0000ff, 0xff00ff, 0xffff00, 0x00ffff]\n",
                "\n",
                "h5_data = h5py.File(bsp_net_data_path)\n",
                "\n",
                "\n",
                "idx = 20 # 32, 500\n",
                "resolutions = [16, 32, 64] \n",
                "res = resolutions[2]\n",
                "verbose = False\n",
                "\n",
                "print(list(h5_data.keys())) if verbose else None\n",
                "\n",
                "if verbose:\n",
                "    for r in resolutions:\n",
                "        print(f\"\\nr={r}\")\n",
                "        print(h5_data['pixels']) if 'pixels' in list(h5_data.keys()) else None\n",
                "        print(h5_data[f'points_{r}'])\n",
                "        print(h5_data[f'values_{r}'])\n",
                "        print(h5_data['voxels'])\n",
                "\n",
                "pc = h5_data[f'points_{res}'][idx]\n",
                "\n",
                "mask = h5_data[f'values_{res}'][idx].astype(bool)\n",
                "print(f\"mask.shape={mask.shape}\") if verbose else None\n",
                "print(f\"mask={mask}\") if verbose else None\n",
                "mask = (np.ones((mask.shape[0], 3)) * mask).astype(bool)\n",
                "print(f\"mask.shape={mask.shape}\") if verbose else None\n",
                "\n",
                "\n",
                "pc[mask].reshape((-1, 3)).shape, pc.shape\n",
                "\n",
                "segmented_pc = np.array([\n",
                "    pc[mask].reshape((-1,3)), \n",
                "    pc[~mask].reshape((-1,3))\n",
                "    ])\n",
                "\n",
                "visualize_pointclouds_parts_partglot(segmented_pc, point_size=2, opacity=0.4, part_colors=cmap)\n"
            ]
        }
    ],
    "metadata": {
        "kernelspec": {
            "display_name": "Python 3.9.13 ('dl3d')",
            "language": "python",
            "name": "python3"
        },
        "language_info": {
            "codemirror_mode": {
                "name": "ipython",
                "version": 3
            },
            "file_extension": ".py",
            "mimetype": "text/x-python",
            "name": "python",
            "nbconvert_exporter": "python",
            "pygments_lexer": "ipython3",
            "version": "3.9.13"
        },
        "orig_nbformat": 4,
        "vscode": {
            "interpreter": {
                "hash": "5edac632bc030e698bde792f49d6429b3d15e7fbac06b4787d1057cf5bdd41d1"
            }
        }
    },
    "nbformat": 4,
    "nbformat_minor": 2
}
