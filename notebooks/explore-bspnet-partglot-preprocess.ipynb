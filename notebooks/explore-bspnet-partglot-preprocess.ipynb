{
 "cells": [
  {
   "cell_type": "code",
   "execution_count": 62,
   "metadata": {},
   "outputs": [
    {
     "name": "stdout",
     "output_type": "stream",
     "text": [
      "The autoreload extension is already loaded. To reload it, use:\n",
      "  %reload_ext autoreload\n",
      "dict_keys(['mesh', 'pc_in_segs', 'mask', 'non_zero_pc_in_segs', 'sd', 'pc2sup_segs'])\n",
      "pc['mesh']                      = <trimesh.Scene(len(geometry)=16)> (16 supersegs)\n",
      "pc['pc_in_segs'].shape          = (50, 512, 3) (supersegs and dummies, points, xyz)\n",
      "pc['mask'].shape                = (50,) (mask for non dummy supersegs)\n",
      "pc['mask'].sum()                = 16 (amount of non-dummies)\n",
      "pc['non_zero_pc_in_segs'].shape = (16, 512, 3) (non dommy supersegs, points, xyz)\n",
      "pc['sd'].shape                  = (512, 16, 20) (points, non rare supersegs, all supersegs)\n",
      "pc['sd'].shape                  = (16,) ()\n"
     ]
    },
    {
     "name": "stderr",
     "output_type": "stream",
     "text": [
      "/home/bellatini/miniconda3/envs/dl3d/lib/python3.9/site-packages/traittypes/traittypes.py:97: UserWarning: Given trait value dtype \"float32\" does not match required type \"float32\". A coerced copy has been created.\n",
      "  warnings.warn(\n",
      "/home/bellatini/miniconda3/envs/dl3d/lib/python3.9/site-packages/traittypes/traittypes.py:97: UserWarning: Given trait value dtype \"uint32\" does not match required type \"uint32\". A coerced copy has been created.\n",
      "  warnings.warn(\n"
     ]
    },
    {
     "data": {
      "application/vnd.jupyter.widget-view+json": {
       "model_id": "e00a6e3bd5fb43c4846fc86db66e1d73",
       "version_major": 2,
       "version_minor": 0
      },
      "text/plain": [
       "Output()"
      ]
     },
     "metadata": {},
     "output_type": "display_data"
    },
    {
     "name": "stdout",
     "output_type": "stream",
     "text": [
      "Visualization rendering started...\n"
     ]
    },
    {
     "data": {
      "application/vnd.jupyter.widget-view+json": {
       "model_id": "24ba46e88fdb4587b6f93dad3a0bbf70",
       "version_major": 2,
       "version_minor": 0
      },
      "text/plain": [
       "Output()"
      ]
     },
     "metadata": {},
     "output_type": "display_data"
    }
   ],
   "source": [
    "%load_ext autoreload\n",
    "%autoreload 2\n",
    "\n",
    "import numpy as np\n",
    "from src.partglot.utils.partglot_bspnet_preprocess import convert_supersegs_to_pointclouds, get_bsp_attrb, load_pointcloud\n",
    "from src.helper.visualization import visualize_meshes, visualize_pointclouds_parts_partglot\n",
    "\n",
    "idx = 0\n",
    "pc = convert_supersegs_to_pointclouds(idx=idx, num_points=None, remove_rare=1, max_num_points=512, max_num_segs=50, res=64, export=False)\n",
    "\n",
    "print(pc.keys())\n",
    "print(f\"pc['mesh']                      = {pc['mesh']} ({len(pc['mesh'].geometry)} supersegs)\")\n",
    "print(f\"pc['pc_in_segs'].shape          = {pc['pc_in_segs'].shape} (supersegs and dummies, points, xyz)\")\n",
    "print(f\"pc['mask'].shape                = {pc['mask'].shape} (mask for non dummy supersegs)\")\n",
    "print(f\"pc['mask'].sum()                = {pc['mask'].sum()} (amount of non-dummies)\")\n",
    "print(f\"pc['non_zero_pc_in_segs'].shape = {pc['non_zero_pc_in_segs'].shape} (non dommy supersegs, points, xyz)\")\n",
    "print(f\"pc['sd'].shape                  = {pc['sd'].shape} (points, non rare supersegs, all supersegs)\")\n",
    "print(f\"pc['sd'].shape                  = {pc['pc2sup_segs'].shape} ()\")\n",
    "\n",
    "visualize_meshes(pc['mesh'].dump())\n",
    "\n",
    "visualize_pointclouds_parts_partglot(pc['non_zero_pc_in_segs'],  opacity=0.5)\n"
   ]
  },
  {
   "cell_type": "code",
   "execution_count": 60,
   "metadata": {},
   "outputs": [
    {
     "data": {
      "text/plain": [
       "(512, 3)"
      ]
     },
     "execution_count": 60,
     "metadata": {},
     "output_type": "execute_result"
    }
   ],
   "source": [
    "resampled_pc[:None].shape"
   ]
  },
  {
   "cell_type": "code",
   "execution_count": 63,
   "metadata": {},
   "outputs": [
    {
     "name": "stdout",
     "output_type": "stream",
     "text": [
      "Visualization rendering started...\n"
     ]
    },
    {
     "data": {
      "application/vnd.jupyter.widget-view+json": {
       "model_id": "7e03163039084f5abfb1a846b3f3db7f",
       "version_major": 2,
       "version_minor": 0
      },
      "text/plain": [
       "Output()"
      ]
     },
     "metadata": {},
     "output_type": "display_data"
    }
   ],
   "source": [
    "from src.partglot.utils.processing import random_sample_array\n",
    "\n",
    "\n",
    "# attr = get_bsp_attrb(idx, num_points=None, res=64)\n",
    "\n",
    "# attr['pc'].shape, attr['point_membership'].shape\n",
    "# seg_pc = {}\n",
    "# for pc, pm in zip(attr['pc'], attr['point_membership']):\n",
    "#     if pm in seg_pc:\n",
    "#         seg_pc[pm].append(pc)\n",
    "#     else:\n",
    "#         seg_pc[pm] = [pc]\n",
    "#     # break\n",
    "\n",
    "# visualize_pointclouds_parts_partglot(seg_pc.values(), point_size=2.5, opacity=0.5)"
   ]
  },
  {
   "cell_type": "code",
   "execution_count": 84,
   "metadata": {},
   "outputs": [
    {
     "name": "stdout",
     "output_type": "stream",
     "text": [
      "Visualization rendering started...\n"
     ]
    },
    {
     "data": {
      "application/vnd.jupyter.widget-view+json": {
       "model_id": "48ef1d1895884c46a00803b57319ec4c",
       "version_major": 2,
       "version_minor": 0
      },
      "text/plain": [
       "Output()"
      ]
     },
     "metadata": {},
     "output_type": "display_data"
    }
   ],
   "source": [
    "from src.partglot.utils.partglot_bspnet_preprocess import convert_supersegs_to_pointclouds_simple\n",
    "resampled_ssegs = convert_supersegs_to_pointclouds_simple(idx, sseg_size=512, normalize=False, num_points=None)\n",
    "visualize_pointclouds_parts_partglot(resampled_ssegs, point_size=2.5, opacity=0.5)"
   ]
  },
  {
   "cell_type": "code",
   "execution_count": 85,
   "metadata": {},
   "outputs": [
    {
     "name": "stdout",
     "output_type": "stream",
     "text": [
      "Visualization rendering started...\n"
     ]
    },
    {
     "data": {
      "application/vnd.jupyter.widget-view+json": {
       "model_id": "86da7fa852ed40d6bff0b679c16e7fea",
       "version_major": 2,
       "version_minor": 0
      },
      "text/plain": [
       "Output()"
      ]
     },
     "metadata": {},
     "output_type": "display_data"
    }
   ],
   "source": [
    "resampled_ssegs = convert_supersegs_to_pointclouds_simple(idx, sseg_size=512, normalize=True, num_points=None)\n",
    "visualize_pointclouds_parts_partglot(resampled_ssegs, point_size=2.5, opacity=0.5)"
   ]
  }
 ],
 "metadata": {
  "kernelspec": {
   "display_name": "Python 3.9.13 ('dl3d')",
   "language": "python",
   "name": "python3"
  },
  "language_info": {
   "codemirror_mode": {
    "name": "ipython",
    "version": 3
   },
   "file_extension": ".py",
   "mimetype": "text/x-python",
   "name": "python",
   "nbconvert_exporter": "python",
   "pygments_lexer": "ipython3",
   "version": "3.9.13"
  },
  "orig_nbformat": 4,
  "vscode": {
   "interpreter": {
    "hash": "5edac632bc030e698bde792f49d6429b3d15e7fbac06b4787d1057cf5bdd41d1"
   }
  }
 },
 "nbformat": 4,
 "nbformat_minor": 2
}
