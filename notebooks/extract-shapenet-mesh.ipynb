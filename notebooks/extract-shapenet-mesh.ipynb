{
 "cells": [
  {
   "cell_type": "code",
   "execution_count": 1,
   "metadata": {},
   "outputs": [],
   "source": [
    "%load_ext autoreload\n",
    "%autoreload 2"
   ]
  },
  {
   "cell_type": "code",
   "execution_count": 2,
   "metadata": {},
   "outputs": [],
   "source": [
    "import pathlib\n",
    "import numpy as np\n",
    "from src.helper.visualization import visualize_mesh, visualize_meshes\n",
    "import trimesh\n",
    "\n",
    "import torch\n",
    "from tqdm import tqdm\n",
    "\n",
    "import numpy as np\n",
    "import os\n",
    "import h5py\n",
    "from src.helper.paths import BASELINES_PATH\n",
    "from src.helper.preprocessing import get_pc_distances\n",
    "from src.partglot.utils.processing import vstack2dim\n",
    "from src.partglot.utils.partglot_bspnet_preprocess import normalize_pointcloud, rotate_pointcloud\n",
    "from src.helper.visualization import visualize_pointclouds_parts_partglot\n",
    "\n",
    "root = pathlib.Path(\"/mnt/hdd/shapenetcore_partanno_segmentation_benchmark_v0/03001627/\")\n",
    "shapenet_root = pathlib.Path(\"/mnt/hdd/ShapeNetCore.v2/03001627/\")\n",
    "\n",
    "\n",
    "data_dir = BASELINES_PATH / 'PartGlot/data'\n",
    "\n",
    "h5_data = h5py.File(data_dir / \"shapenet_partseg_chair_bsp.h5\")\n",
    "segs_data = h5_data[\"data\"][:].astype(np.float32)"
   ]
  },
  {
   "cell_type": "code",
   "execution_count": 3,
   "metadata": {},
   "outputs": [],
   "source": [
    "# selects cherry picked supersegments from PartGlot\n",
    "# to extract the corresponding Shappe Net meshes\n",
    "f_segs_data = [pc for i, pc in enumerate(segs_data) if i in (40, 55, 70)] "
   ]
  },
  {
   "cell_type": "code",
   "execution_count": 4,
   "metadata": {},
   "outputs": [
    {
     "name": "stderr",
     "output_type": "stream",
     "text": [
      "100%|██████████| 3746/3746 [00:31<00:00, 120.07it/s]\n"
     ]
    }
   ],
   "source": [
    "# loads all shapenet points and lables\n",
    "points = []\n",
    "labels = []\n",
    "meshes = []\n",
    "\n",
    "for i, point_path in tqdm(list(enumerate(root.joinpath(\"points\").iterdir()))):\n",
    "    \n",
    "    points.append(np.loadtxt(point_path))\n",
    "    labels.append(np.loadtxt(root.joinpath(\"points_label\").joinpath(point_path.stem).with_suffix(\".seg\"), dtype=int))\n"
   ]
  },
  {
   "cell_type": "code",
   "execution_count": 6,
   "metadata": {},
   "outputs": [
    {
     "name": "stderr",
     "output_type": "stream",
     "text": [
      "3746it [00:12, 299.80it/s]0<?, ?it/s]\n",
      " 33%|███▎      | 1/3 [00:12<00:24, 12.50s/it]"
     ]
    },
    {
     "name": "stdout",
     "output_type": "stream",
     "text": [
      "(1193, 2.31311297416687)\n"
     ]
    },
    {
     "name": "stderr",
     "output_type": "stream",
     "text": [
      "3746it [00:11, 326.56it/s]\n",
      " 67%|██████▋   | 2/3 [00:23<00:11, 11.90s/it]"
     ]
    },
    {
     "name": "stdout",
     "output_type": "stream",
     "text": [
      "(2019, 11.044352531433105)\n"
     ]
    },
    {
     "name": "stderr",
     "output_type": "stream",
     "text": [
      "3746it [00:11, 326.47it/s]\n",
      "100%|██████████| 3/3 [00:35<00:00, 11.82s/it]"
     ]
    },
    {
     "name": "stdout",
     "output_type": "stream",
     "text": [
      "(134, 7.2849836349487305)\n"
     ]
    },
    {
     "name": "stderr",
     "output_type": "stream",
     "text": [
      "\n"
     ]
    }
   ],
   "source": [
    "# normalizes all point clouds from ShapeNet\n",
    "prepros_sn_pc = [normalize_pointcloud(rotate_pointcloud(vstack2dim(pc)))['pc'] for pc in points]\n",
    "\n",
    "# gets point clouds with smallest distance\n",
    "# from the ShapeNet w.r.t. to each of the cherry picked\n",
    "# super-segments from PartGlot\n",
    "indices = []\n",
    "all_dists = []\n",
    "for src_pc in tqdm(f_segs_data):\n",
    "    n_src = normalize_pointcloud(vstack2dim(src_pc))['pc']\n",
    "    pc_dists = get_pc_distances(n_src, prepros_sn_pc)\n",
    "    closest_pc = min(pc_dists, key = lambda t: t[1])\n",
    "    print(closest_pc)\n",
    "    indices.append(closest_pc[0])\n",
    "    all_dists.append(pc_dists)"
   ]
  },
  {
   "cell_type": "code",
   "execution_count": 10,
   "metadata": {},
   "outputs": [
    {
     "name": "stdout",
     "output_type": "stream",
     "text": [
      "Visualization rendering started...\n"
     ]
    },
    {
     "data": {
      "application/vnd.jupyter.widget-view+json": {
       "model_id": "2e1c52208d784d889eb652abf7fe93d6",
       "version_major": 2,
       "version_minor": 0
      },
      "text/plain": [
       "Output()"
      ]
     },
     "metadata": {},
     "output_type": "display_data"
    }
   ],
   "source": [
    "# visualize results to check if they are correct\n",
    "# plots the overlapping point clouds of the super-segments\n",
    "# and the most similar ShapeNet point cloud\n",
    "# hint: tweak variable `i` to check every point cloud\n",
    "i = 0\n",
    "n_src = normalize_pointcloud(vstack2dim(f_segs_data[i]))['pc']\n",
    "ref = prepros_sn_pc[indices[i]]\n",
    "visualize_pointclouds_parts_partglot([n_src, ref])"
   ]
  },
  {
   "cell_type": "code",
   "execution_count": 11,
   "metadata": {},
   "outputs": [
    {
     "name": "stderr",
     "output_type": "stream",
     "text": [
      "100%|██████████| 3746/3746 [00:00<00:00, 24191.60it/s]"
     ]
    },
    {
     "name": "stdout",
     "output_type": "stream",
     "text": [
      "i = 134\n",
      "point cloud path = /mnt/hdd/shapenetcore_partanno_segmentation_benchmark_v0/03001627/points/47eff1e5c09cec7435836c728d324152.pts\n",
      "labels path = /mnt/hdd/shapenetcore_partanno_segmentation_benchmark_v0/03001627/points_label/47eff1e5c09cec7435836c728d324152.seg\n",
      "mesh path = /mnt/hdd/ShapeNetCore.v2/03001627/47eff1e5c09cec7435836c728d324152/models/model_normalized.obj\n",
      "====================\n",
      "i = 1193\n",
      "point cloud path = /mnt/hdd/shapenetcore_partanno_segmentation_benchmark_v0/03001627/points/88c39cf1485b497bfbb8cbddab1c2002.pts\n",
      "labels path = /mnt/hdd/shapenetcore_partanno_segmentation_benchmark_v0/03001627/points_label/88c39cf1485b497bfbb8cbddab1c2002.seg\n",
      "mesh path = /mnt/hdd/ShapeNetCore.v2/03001627/88c39cf1485b497bfbb8cbddab1c2002/models/model_normalized.obj\n",
      "====================\n",
      "i = 2019\n",
      "point cloud path = /mnt/hdd/shapenetcore_partanno_segmentation_benchmark_v0/03001627/points/c1b312919af633f8f51f77a6d7299806.pts\n",
      "labels path = /mnt/hdd/shapenetcore_partanno_segmentation_benchmark_v0/03001627/points_label/c1b312919af633f8f51f77a6d7299806.seg\n",
      "mesh path = /mnt/hdd/ShapeNetCore.v2/03001627/c1b312919af633f8f51f77a6d7299806/models/model_normalized.obj\n",
      "====================\n"
     ]
    },
    {
     "name": "stderr",
     "output_type": "stream",
     "text": [
      "\n"
     ]
    }
   ],
   "source": [
    "# load meshes from the found indices\n",
    "# prints the indices and paths of the corresponding matches\n",
    "for i, point_path in tqdm(list(enumerate(root.joinpath(\"points\").iterdir()))):\n",
    "    if i not in indices:\n",
    "        continue\n",
    "    points.append(np.loadtxt(point_path))\n",
    "    labels.append(np.loadtxt(root.joinpath(\"points_label\").joinpath(point_path.stem).with_suffix(\".seg\"), dtype=int))\n",
    "    with open(shapenet_root.joinpath(point_path.stem).joinpath(\"models\").joinpath(\"model_normalized.obj\")) as fp:\n",
    "        meshes.append(trimesh.exchange.obj.load_obj(fp, include_color=False, include_texture=False))\n",
    "    print(f\"i = {i}\")\n",
    "    print(f\"point cloud path = {point_path}\")\n",
    "    print(f'labels path = {root.joinpath(\"points_label\").joinpath(point_path.stem).with_suffix(\".seg\")}')\n",
    "    print(f'mesh path = {shapenet_root.joinpath(point_path.stem).joinpath(\"models\").joinpath(\"model_normalized.obj\")}')\n",
    "    print(20*\"=\")"
   ]
  },
  {
   "cell_type": "code",
   "execution_count": 14,
   "metadata": {},
   "outputs": [
    {
     "data": {
      "application/vnd.jupyter.widget-view+json": {
       "model_id": "c10fcb02f3a34ca98e517f69a05322b7",
       "version_major": 2,
       "version_minor": 0
      },
      "text/plain": [
       "Output()"
      ]
     },
     "metadata": {},
     "output_type": "display_data"
    },
    {
     "data": {
      "application/vnd.jupyter.widget-view+json": {
       "model_id": "f538e303fea24b61ab88356c505afc54",
       "version_major": 2,
       "version_minor": 0
      },
      "text/plain": [
       "Output()"
      ]
     },
     "metadata": {},
     "output_type": "display_data"
    },
    {
     "data": {
      "application/vnd.jupyter.widget-view+json": {
       "model_id": "a1f23f166df84c4386c892ad171f0b30",
       "version_major": 2,
       "version_minor": 0
      },
      "text/plain": [
       "Output()"
      ]
     },
     "metadata": {},
     "output_type": "display_data"
    },
    {
     "data": {
      "application/vnd.jupyter.widget-view+json": {
       "model_id": "d5787466f42c44e8a74aecd64b523d1e",
       "version_major": 2,
       "version_minor": 0
      },
      "text/plain": [
       "Output()"
      ]
     },
     "metadata": {},
     "output_type": "display_data"
    }
   ],
   "source": [
    "# plots meshes to confirm consistency\n",
    "# between point clouds and shapenet meshes\n",
    "i = 0\n",
    "p_meshes = []\n",
    "for g in meshes[i]['geometry'].values():\n",
    "    faces, vertices = g['faces'], g['vertices']\n",
    "    p_meshes.append({'faces': faces, 'vertices': vertices})\n",
    "    visualize_meshes(p_meshes)"
   ]
  }
 ],
 "metadata": {
  "kernelspec": {
   "display_name": "Python 3.9.13 ('dl3d')",
   "language": "python",
   "name": "python3"
  },
  "language_info": {
   "codemirror_mode": {
    "name": "ipython",
    "version": 3
   },
   "file_extension": ".py",
   "mimetype": "text/x-python",
   "name": "python",
   "nbconvert_exporter": "python",
   "pygments_lexer": "ipython3",
   "version": "3.9.13"
  },
  "orig_nbformat": 4,
  "vscode": {
   "interpreter": {
    "hash": "5edac632bc030e698bde792f49d6429b3d15e7fbac06b4787d1057cf5bdd41d1"
   }
  }
 },
 "nbformat": 4,
 "nbformat_minor": 2
}
