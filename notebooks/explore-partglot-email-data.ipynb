{
    "cells": [
        {
            "cell_type": "code",
            "execution_count": 8,
            "metadata": {},
            "outputs": [
                {
                    "name": "stdout",
                    "output_type": "stream",
                    "text": [
                        "['data']\n",
                        "<HDF5 dataset \"data\": shape (4511, 10000, 3), type \"<f8\"> [[[-0.24611579  0.30817853 -0.09441186]\n",
                        "  [-0.0998033  -0.09681111 -0.14471348]\n",
                        "  [-0.11670284  0.02632374  0.06490469]\n",
                        "  ...\n",
                        "  [-0.26137     0.25918073  0.05206986]\n",
                        "  [ 0.08680589  0.01862456  0.16788353]\n",
                        "  [-0.00313709  0.02470448  0.20487346]]\n",
                        "\n",
                        " [[ 0.09447153  0.06572421  0.34238624]\n",
                        "  [-0.150263    0.20062846  0.00261817]\n",
                        "  [-0.150263    0.00615564  0.03046863]\n",
                        "  ...\n",
                        "  [-0.171691    0.07233076  0.24388324]\n",
                        "  [ 0.12258152  0.02699537 -0.17585737]\n",
                        "  [-0.04761975 -0.03000127 -0.15904982]]\n",
                        "\n",
                        " [[ 0.31229196 -0.01957314  0.10632622]\n",
                        "  [-0.20221097  0.10380762 -0.10498691]\n",
                        "  [-0.30780425 -0.104422   -0.0646586 ]\n",
                        "  ...\n",
                        "  [ 0.32783695 -0.03442644 -0.17372932]\n",
                        "  [-0.223472    0.10232076  0.01948494]\n",
                        "  [-0.03794452 -0.04220297 -0.09003432]]\n",
                        "\n",
                        " ...\n",
                        "\n",
                        " [[-0.14872674 -0.03222396  0.15311399]\n",
                        "  [ 0.164824   -0.06536825 -0.13700701]\n",
                        "  [-0.11377573 -0.08815984  0.185465  ]\n",
                        "  ...\n",
                        "  [-0.14092549 -0.36736079  0.16483138]\n",
                        "  [ 0.06776513 -0.0228072  -0.0093308 ]\n",
                        "  [ 0.16296629 -0.2585177   0.138454  ]]\n",
                        "\n",
                        " [[-0.20521907  0.28617764  0.00243522]\n",
                        "  [-0.18386399  0.28387973 -0.10967713]\n",
                        "  [-0.17138774  0.11073955 -0.01764061]\n",
                        "  ...\n",
                        "  [ 0.17238869  0.02258756  0.06275563]\n",
                        "  [-0.24213507  0.37382472  0.00153265]\n",
                        "  [-0.14311936  0.18880756 -0.15651855]]\n",
                        "\n",
                        " [[ 0.14949114 -0.04810166  0.09618515]\n",
                        "  [-0.17499708  0.2955294   0.08553041]\n",
                        "  [-0.16342702  0.358394    0.02430973]\n",
                        "  ...\n",
                        "  [-0.1521935  -0.0614133   0.09583972]\n",
                        "  [-0.18082445 -0.14165476  0.17306276]\n",
                        "  [-0.15711344 -0.429628    0.15189249]]]\n",
                        "Visualization rendering started...\n"
                    ]
                },
                {
                    "data": {
                        "application/vnd.jupyter.widget-view+json": {
                            "model_id": "ef70d220775b4a47ae29becae78a33b6",
                            "version_major": 2,
                            "version_minor": 0
                        },
                        "text/plain": [
                            "Output()"
                        ]
                    },
                    "metadata": {},
                    "output_type": "display_data"
                }
            ],
            "source": [
                "import h5py\n",
                "from src.helper.visualization import visualize_pointclouds_parts_partglot\n",
                "import numpy as np\n",
                "data_path = '/home/bellatini/DL3D-Practical/data/partglot_email/shapenet_chairs_only_in_game_10000.h5'\n",
                "cmap = [0xff0000, 0x00ff00, 0x0000ff, 0xff00ff, 0xffff00, 0x00ffff]\n",
                "\n",
                "h5_data = h5py.File(data_path)\n",
                "\n",
                "idx = 1\n",
                "verbose = True\n",
                "print(list(h5_data.keys())) if verbose else None\n",
                "print(h5_data['data'],h5_data['data'][:] ) if verbose else None\n",
                "points = h5_data['data'][:]\n",
                "\n",
                "visualize_pointclouds_parts_partglot(points[idx:idx+1], point_size=0.01, opacity=0.4, part_colors=cmap)\n"
            ]
        },
        {
            "cell_type": "code",
            "execution_count": 3,
            "metadata": {},
            "outputs": [],
            "source": [
                "import h5py"
            ]
        },
        {
            "cell_type": "code",
            "execution_count": 4,
            "metadata": {},
            "outputs": [],
            "source": [
                "bsp_data = h5py.File(data_path)"
            ]
        },
        {
            "cell_type": "code",
            "execution_count": 16,
            "metadata": {},
            "outputs": [],
            "source": [
                "\n"
            ]
        },
        {
            "cell_type": "code",
            "execution_count": 18,
            "metadata": {},
            "outputs": [
                {
                    "data": {
                        "text/plain": [
                            "['pixels',\n",
                            " 'points_16',\n",
                            " 'points_32',\n",
                            " 'points_64',\n",
                            " 'values_16',\n",
                            " 'values_32',\n",
                            " 'values_64',\n",
                            " 'voxels']"
                        ]
                    },
                    "execution_count": 18,
                    "metadata": {},
                    "output_type": "execute_result"
                }
            ],
            "source": [
                "points[]"
            ]
        },
        {
            "cell_type": "code",
            "execution_count": 25,
            "metadata": {},
            "outputs": [
                {
                    "data": {
                        "text/plain": [
                            "(8762, 64, 64, 64, 1)"
                        ]
                    },
                    "execution_count": 25,
                    "metadata": {},
                    "output_type": "execute_result"
                }
            ],
            "source": [
                "bsp_data['voxels'].shape"
            ]
        },
        {
            "cell_type": "code",
            "execution_count": 27,
            "metadata": {},
            "outputs": [
                {
                    "data": {
                        "text/plain": [
                            "(8762, 24, 137, 137)"
                        ]
                    },
                    "execution_count": 27,
                    "metadata": {},
                    "output_type": "execute_result"
                }
            ],
            "source": [
                "bsp_data['pixels'].shape\n"
            ]
        },
        {
            "cell_type": "code",
            "execution_count": 31,
            "metadata": {},
            "outputs": [
                {
                    "data": {
                        "text/plain": [
                            "(8762, 4096, 1)"
                        ]
                    },
                    "execution_count": 31,
                    "metadata": {},
                    "output_type": "execute_result"
                }
            ],
            "source": [
                "bsp_data['values_16'].shape\n"
            ]
        },
        {
            "cell_type": "code",
            "execution_count": 9,
            "metadata": {},
            "outputs": [
                {
                    "data": {
                        "text/plain": [
                            "ItemsViewHDF5(<HDF5 file \"all_vox256_img_test.hdf5\" (mode r)>)"
                        ]
                    },
                    "execution_count": 9,
                    "metadata": {},
                    "output_type": "execute_result"
                }
            ],
            "source": [
                "bsp_data.items()"
            ]
        }
    ],
    "metadata": {
        "kernelspec": {
            "display_name": "Python 3.9.13 ('dl3d')",
            "language": "python",
            "name": "python3"
        },
        "language_info": {
            "codemirror_mode": {
                "name": "ipython",
                "version": 3
            },
            "file_extension": ".py",
            "mimetype": "text/x-python",
            "name": "python",
            "nbconvert_exporter": "python",
            "pygments_lexer": "ipython3",
            "version": "3.9.13"
        },
        "orig_nbformat": 4,
        "vscode": {
            "interpreter": {
                "hash": "5edac632bc030e698bde792f49d6429b3d15e7fbac06b4787d1057cf5bdd41d1"
            }
        }
    },
    "nbformat": 4,
    "nbformat_minor": 2
}
