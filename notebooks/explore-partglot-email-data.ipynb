{
    "cells": [
        {
            "cell_type": "code",
            "execution_count": 1,
            "metadata": {},
            "outputs": [
                {
                    "name": "stdout",
                    "output_type": "stream",
                    "text": [
                        "Visualization rendering started...\n"
                    ]
                },
                {
                    "data": {
                        "application/vnd.jupyter.widget-view+json": {
                            "model_id": "089cf15206a044bc862ff92204a34c18",
                            "version_major": 2,
                            "version_minor": 0
                        },
                        "text/plain": [
                            "Output()"
                        ]
                    },
                    "metadata": {},
                    "output_type": "display_data"
                }
            ],
            "source": [
                "import h5py\n",
                "from src.helper.visualization import visualize_pointclouds_parts_partglot\n",
                "import numpy as np\n",
                "data_path = '/home/bellatini/DL3D-Practical/data/partglot_email/shapenet_chairs_only_in_game_10000.h5'\n",
                "cmap = [0xff0000, 0x00ff00, 0x0000ff, 0xff00ff, 0xffff00, 0x00ffff]\n",
                "\n",
                "h5_data = h5py.File(data_path)\n",
                "\n",
                "idx = 3\n",
                "verbose = False\n",
                "print(list(h5_data.keys())) if verbose else None\n",
                "print(h5_data['data'],h5_data['data'][:] ) if verbose else None\n",
                "points = h5_data['data'][:]\n",
                "\n",
                "visualize_pointclouds_parts_partglot(points[idx:idx+1], point_size=0.01, opacity=0.4, part_colors=cmap)\n"
            ]
        },
        {
            "cell_type": "code",
            "execution_count": 11,
            "metadata": {},
            "outputs": [],
            "source": [
                "# need to sort output data from bspnet ? why and how ? check out the preprocessing script\n",
                "from src.partglot.utils.simple_utils import unpickle_data\n",
                "from src.helper.paths import BASELINES_PATH\n",
                "data_dir = BASELINES_PATH / 'PartGlot/data'\n",
                "model_path = BASELINES_PATH / 'PartGlot/checkpoints/pn_agnostic.ckpt'\n",
                "\n",
                "from src.partglot.utils.predict import get_loaded_model\n",
                "partglot, partglot_dm = get_loaded_model(data_dir=data_dir, model_path=model_path)\n",
                "partglot_dm.sorted_sn"
            ]
        },
        {
            "cell_type": "code",
            "execution_count": 16,
            "metadata": {},
            "outputs": [],
            "source": [
                "from src.partglot.utils.partglot_bspnet_preprocess import convert_supersegs_to_pointclouds\n",
                "convert_supersegs_to_pointclouds()\n"
            ]
        },
        {
            "cell_type": "code",
            "execution_count": null,
            "metadata": {},
            "outputs": [],
            "source": []
        },
        {
            "cell_type": "code",
            "execution_count": 10,
            "metadata": {},
            "outputs": [
                {
                    "ename": "AttributeError",
                    "evalue": "'DataFrame' object has no attribute 'sorted_sn'",
                    "output_type": "error",
                    "traceback": [
                        "\u001b[0;31m---------------------------------------------------------------------------\u001b[0m",
                        "\u001b[0;31mAttributeError\u001b[0m                            Traceback (most recent call last)",
                        "Cell \u001b[0;32mIn [10], line 1\u001b[0m\n\u001b[0;32m----> 1\u001b[0m game_data\u001b[39m.\u001b[39;49msorted_sn\n",
                        "File \u001b[0;32m~/miniconda3/envs/dl3d/lib/python3.9/site-packages/pandas/core/generic.py:5902\u001b[0m, in \u001b[0;36mNDFrame.__getattr__\u001b[0;34m(self, name)\u001b[0m\n\u001b[1;32m   5895\u001b[0m \u001b[39mif\u001b[39;00m (\n\u001b[1;32m   5896\u001b[0m     name \u001b[39mnot\u001b[39;00m \u001b[39min\u001b[39;00m \u001b[39mself\u001b[39m\u001b[39m.\u001b[39m_internal_names_set\n\u001b[1;32m   5897\u001b[0m     \u001b[39mand\u001b[39;00m name \u001b[39mnot\u001b[39;00m \u001b[39min\u001b[39;00m \u001b[39mself\u001b[39m\u001b[39m.\u001b[39m_metadata\n\u001b[1;32m   5898\u001b[0m     \u001b[39mand\u001b[39;00m name \u001b[39mnot\u001b[39;00m \u001b[39min\u001b[39;00m \u001b[39mself\u001b[39m\u001b[39m.\u001b[39m_accessors\n\u001b[1;32m   5899\u001b[0m     \u001b[39mand\u001b[39;00m \u001b[39mself\u001b[39m\u001b[39m.\u001b[39m_info_axis\u001b[39m.\u001b[39m_can_hold_identifiers_and_holds_name(name)\n\u001b[1;32m   5900\u001b[0m ):\n\u001b[1;32m   5901\u001b[0m     \u001b[39mreturn\u001b[39;00m \u001b[39mself\u001b[39m[name]\n\u001b[0;32m-> 5902\u001b[0m \u001b[39mreturn\u001b[39;00m \u001b[39mobject\u001b[39;49m\u001b[39m.\u001b[39;49m\u001b[39m__getattribute__\u001b[39;49m(\u001b[39mself\u001b[39;49m, name)\n",
                        "\u001b[0;31mAttributeError\u001b[0m: 'DataFrame' object has no attribute 'sorted_sn'"
                    ]
                }
            ],
            "source": [
                "\n",
                "game_data.sorted_sn"
            ]
        }
    ],
    "metadata": {
        "kernelspec": {
            "display_name": "Python 3.9.13 ('dl3d')",
            "language": "python",
            "name": "python3"
        },
        "language_info": {
            "codemirror_mode": {
                "name": "ipython",
                "version": 3
            },
            "file_extension": ".py",
            "mimetype": "text/x-python",
            "name": "python",
            "nbconvert_exporter": "python",
            "pygments_lexer": "ipython3",
            "version": "3.9.13"
        },
        "orig_nbformat": 4,
        "vscode": {
            "interpreter": {
                "hash": "5edac632bc030e698bde792f49d6429b3d15e7fbac06b4787d1057cf5bdd41d1"
            }
        }
    },
    "nbformat": 4,
    "nbformat_minor": 2
}
