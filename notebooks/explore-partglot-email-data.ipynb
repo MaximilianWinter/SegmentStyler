{
    "cells": [
        {
            "cell_type": "code",
            "execution_count": 4,
            "metadata": {},
            "outputs": [
                {
                    "name": "stdout",
                    "output_type": "stream",
                    "text": [
                        "Visualization rendering started...\n"
                    ]
                },
                {
                    "data": {
                        "application/vnd.jupyter.widget-view+json": {
                            "model_id": "d3a7672f2cb248979d11124599c9ba2c",
                            "version_major": 2,
                            "version_minor": 0
                        },
                        "text/plain": [
                            "Output()"
                        ]
                    },
                    "metadata": {},
                    "output_type": "display_data"
                }
            ],
            "source": [
                "import h5py\n",
                "from src.helper.visualization import visualize_pointclouds_parts_partglot\n",
                "import numpy as np\n",
                "data_path = '/home/bellatini/DL3D-Practical/data/partglot_email/shapenet_chairs_only_in_game_10000.h5'\n",
                "cmap = [0xff0000, 0x00ff00, 0x0000ff, 0xff00ff, 0xffff00, 0x00ffff]\n",
                "\n",
                "h5_data = h5py.File(data_path)\n",
                "\n",
                "idx = 3\n",
                "verbose = False\n",
                "print(list(h5_data.keys())) if verbose else None\n",
                "print(h5_data['data'],h5_data['data'][:] ) if verbose else None\n",
                "points = h5_data['data'][:]\n",
                "\n",
                "visualize_pointclouds_parts_partglot(points[idx:idx+1], point_size=0.01, opacity=0.4, part_colors=cmap)\n"
            ]
        },
        {
            "cell_type": "code",
            "execution_count": null,
            "metadata": {},
            "outputs": [],
            "source": []
        }
    ],
    "metadata": {
        "kernelspec": {
            "display_name": "Python 3.9.13 ('dl3d')",
            "language": "python",
            "name": "python3"
        },
        "language_info": {
            "codemirror_mode": {
                "name": "ipython",
                "version": 3
            },
            "file_extension": ".py",
            "mimetype": "text/x-python",
            "name": "python",
            "nbconvert_exporter": "python",
            "pygments_lexer": "ipython3",
            "version": "3.9.13"
        },
        "orig_nbformat": 4,
        "vscode": {
            "interpreter": {
                "hash": "5edac632bc030e698bde792f49d6429b3d15e7fbac06b4787d1057cf5bdd41d1"
            }
        }
    },
    "nbformat": 4,
    "nbformat_minor": 2
}
