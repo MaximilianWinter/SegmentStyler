{
 "cells": [
  {
   "cell_type": "code",
   "execution_count": 8,
   "metadata": {},
   "outputs": [
    {
     "name": "stdout",
     "output_type": "stream",
     "text": [
      "The autoreload extension is already loaded. To reload it, use:\n",
      "  %reload_ext autoreload\n"
     ]
    }
   ],
   "source": [
    "%load_ext autoreload\n",
    "%autoreload 2"
   ]
  },
  {
   "cell_type": "code",
   "execution_count": 9,
   "metadata": {},
   "outputs": [],
   "source": [
    "import hydra\n",
    "import torch\n",
    "import os\n",
    "import os.path as osp\n",
    "import yaml\n",
    "import matplotlib.pyplot as plt\n",
    "import k3d\n",
    "import numpy as np\n",
    "import torch\n",
    "from torch.utils.data.dataloader import DataLoader\n",
    "from partglot.datamodules.partglot_datamodule import PartglotDataModule\n",
    "from partglot.datamodules.datasets.partglot_dataset import PartglotTestDataset\n",
    "from partglot.models.pn_agnostic import PNAgnostic\n",
    "from pytorch_lightning import Trainer"
   ]
  },
  {
   "cell_type": "code",
   "execution_count": 10,
   "metadata": {},
   "outputs": [],
   "source": [
    "def visualize_pointcloud(point_cloud, point_size):\n",
    "    plot = k3d.plot( grid_visible=False, grid=(-0.55, -0.55, -0.55, 0.55, 0.55, 0.55))\n",
    "    #plt_points = k3d.points(positions=point_cloud.astype(np.float32), point_size=point_size, color=0xd0d0d0)\n",
    "    plt_points = k3d.points(positions=point_cloud, point_size=point_size, color=0xd0d0d0)\n",
    "    plot += plt_points\n",
    "    plt_points.shader = '3d'\n",
    "    plot.display()"
   ]
  },
  {
   "cell_type": "code",
   "execution_count": 121,
   "metadata": {},
   "outputs": [],
   "source": [
    "def visualize_sample(idx, dataset, prediction_path=\"logs/pre_trained/pn_agnostic/11-02_17-07-50/pred_label/final/\"):\n",
    "    geos, geos_mask = dataset[idx]\n",
    "    gt, sd = dataset.get_groundtruth_and_signed_distance(idx)\n",
    "\n",
    "    ### get GT labels for all points in geos\n",
    "    n_super_segs = sd.shape[-1]\n",
    "    pc2sup_segs = np.argmax(sd, 1)\n",
    "    gt_label_per_super_seg = np.zeros(n_super_segs)\n",
    "    for i in range(n_super_segs):\n",
    "        vals, counts = np.unique(gt[pc2sup_segs==i], return_counts=True)\n",
    "\n",
    "        #find mode\n",
    "        mode_value = vals[np.argmax(counts)]\n",
    "        gt_label_per_super_seg[i] = mode_value #gt[pc2sup_segs==i][0]\n",
    "\n",
    "    ### get predicted labels for all points in geos\n",
    "    if prediction_path is not None:\n",
    "        predicted_label_per_super_seg = np.load(prediction_path + f\"{idx}_mesh_label.npy\")\n",
    "    \n",
    "    # create figure\n",
    "    plot = k3d.plot(grid_visible=False, grid=(-0.55, -0.55, -0.55, 0.55, 0.55, 0.55))\n",
    "\n",
    "    # plot both, GT and prediction (if path is given)\n",
    "    colors = [0xd0d0d0, 0xFF0000, 0x008000, 0x0000FF]\n",
    "    for i in range(4):\n",
    "        plt_points = k3d.points(positions=geos[geos_mask.bool()][gt_label_per_super_seg==i], point_size=0.025, color=colors[i])\n",
    "        plot += plt_points\n",
    "\n",
    "        if prediction_path is not None:\n",
    "            plt_points = k3d.points(positions=torch.tensor([0,0,1])[None, None, :]+geos[geos_mask.bool()][predicted_label_per_super_seg==i], point_size=0.015, color=colors[i])\n",
    "            plot += plt_points\n",
    "            \n",
    "    plt_points.shader = '3d'\n",
    "\n",
    "    plot.display()"
   ]
  },
  {
   "cell_type": "code",
   "execution_count": 88,
   "metadata": {},
   "outputs": [],
   "source": [
    "test_set = PartglotTestDataset({\"data_dir\": \"data/\"})"
   ]
  },
  {
   "cell_type": "code",
   "execution_count": 89,
   "metadata": {},
   "outputs": [
    {
     "data": {
      "text/plain": [
       "((3746, 50, 512, 3), (3746, 50), 3746, 3746)"
      ]
     },
     "execution_count": 89,
     "metadata": {},
     "output_type": "execute_result"
    }
   ],
   "source": [
    "test_set.segs_data.shape, test_set.segs_mask.shape, len(test_set.groundtruths), len(test_set.signed_distances)"
   ]
  },
  {
   "cell_type": "code",
   "execution_count": 122,
   "metadata": {},
   "outputs": [
    {
     "data": {
      "application/vnd.jupyter.widget-view+json": {
       "model_id": "9fc7284ac0dd4a7fa3e7aff3d35b9c39",
       "version_major": 2,
       "version_minor": 0
      },
      "text/plain": [
       "Output()"
      ]
     },
     "metadata": {},
     "output_type": "display_data"
    }
   ],
   "source": [
    "visualize_sample(5, test_set)"
   ]
  },
  {
   "cell_type": "markdown",
   "metadata": {},
   "source": [
    "# Re-do test.py:"
   ]
  },
  {
   "cell_type": "code",
   "execution_count": 7,
   "metadata": {},
   "outputs": [
    {
     "name": "stderr",
     "output_type": "stream",
     "text": [
      "GPU available: True, used: True\n",
      "TPU available: False, using: 0 TPU cores\n",
      "IPU available: False, using: 0 IPUs\n"
     ]
    },
    {
     "name": "stdout",
     "output_type": "stream",
     "text": [
      "write state dict\n"
     ]
    }
   ],
   "source": [
    "datamodule = PartglotDataModule(batch_size=64,\n",
    "        only_correct=True,\n",
    "        only_easy_context=False,\n",
    "        max_seq_len=33,\n",
    "        only_one_part_name=True,\n",
    "        seed = 12345678,\n",
    "        split_sizes = [0.8, 0.1, 0.1],\n",
    "        balance=True,\n",
    "        data_dir=\"data/\")\n",
    "\n",
    "model = PNAgnostic(text_dim=64,\n",
    "        embedding_dim=100,\n",
    "        sup_segs_dim=64,\n",
    "        lr=1e-3,\n",
    "        data_dir=\"data/\",\n",
    "        word2int=datamodule.word2int,\n",
    "        total_steps=1,\n",
    "        measure_iou_every_epoch=True,\n",
    "        save_pred_label_every_epoch=False)\n",
    "\n",
    "ckpt = torch.load(\"checkpoints/pn_agnostic.ckpt\")\n",
    "if \"state_dict\" in ckpt:\n",
    "    print(\"write state dict\")\n",
    "    ckpt = ckpt[\"state_dict\"]\n",
    "\n",
    "model.load_state_dict(ckpt)\n",
    "\n",
    "trainer = Trainer(logger=False, gpus=[0])\n",
    "\n",
    "trainer.test(model=model, datamodule=datamodule)"
   ]
  }
 ],
 "metadata": {
  "kernelspec": {
   "display_name": "Python 3.9.13 ('dl3d')",
   "language": "python",
   "name": "python3"
  },
  "language_info": {
   "codemirror_mode": {
    "name": "ipython",
    "version": 3
   },
   "file_extension": ".py",
   "mimetype": "text/x-python",
   "name": "python",
   "nbconvert_exporter": "python",
   "pygments_lexer": "ipython3",
   "version": "3.9.13"
  },
  "orig_nbformat": 4,
  "vscode": {
   "interpreter": {
    "hash": "5edac632bc030e698bde792f49d6429b3d15e7fbac06b4787d1057cf5bdd41d1"
   }
  }
 },
 "nbformat": 4,
 "nbformat_minor": 2
}
