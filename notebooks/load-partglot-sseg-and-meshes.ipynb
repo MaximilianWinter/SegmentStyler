{
 "cells": [
  {
   "cell_type": "code",
   "execution_count": 1,
   "metadata": {},
   "outputs": [
    {
     "name": "stdout",
     "output_type": "stream",
     "text": [
      "runing\n"
     ]
    }
   ],
   "source": [
    "%load_ext autoreload\n",
    "%autoreload 2\n",
    "print('runing')\n"
   ]
  },
  {
   "cell_type": "code",
   "execution_count": 2,
   "metadata": {},
   "outputs": [
    {
     "name": "stdout",
     "output_type": "stream",
     "text": [
      "PartSegmenter initialized with\n",
      "- sseg_count: 25\n",
      "- partglot_data_dir: /home/bellatini/DL3D-Practical/data/partglot\n",
      "- partglot_model_path: /home/bellatini/DL3D-Practical/models/partglot_pn_agnostic.ckpt\n",
      "\n",
      "Starting to run...\n",
      "\n",
      "Starting point cloud preprocessing (super segmentation)\n",
      "\n",
      "Running point cloud stats with use_bsp_ssegs_gt=True\n",
      "- unique point percentage: 8.5%\n",
      "- unique point percentage (non-zeros): 19.2%\n",
      "\n",
      "Successfully ran part segmentation with use_sseg_gt=True\n",
      "\n",
      "## About to visualize part labels\n",
      "Visualization rendering started...\n"
     ]
    },
    {
     "data": {
      "application/vnd.jupyter.widget-view+json": {
       "model_id": "9f218b5d4209436d85c139c0b1e2cc46",
       "version_major": 2,
       "version_minor": 0
      },
      "text/plain": [
       "Output()"
      ]
     },
     "metadata": {},
     "output_type": "display_data"
    }
   ],
   "source": [
    "# ground truth super segmentation (present in PartGlot already)\n",
    "# ----------------------------------------------------------------\n",
    "import trimesh\n",
    "from src.helper.paths import pg2shapenet\n",
    "from src.helper.visualization import visualize_meshes\n",
    "from src.partglot.wrapper import PartSegmenter\n",
    "\n",
    "pg_idx = 40 # good: 40 | acceptable: 55, 70\n",
    "ps = PartSegmenter()\n",
    "ps.run_from_ref_data(sample_idx=pg_idx, use_sseg_gt=True)\n",
    "# ps.visualize_ssegs(point_size=0.03)\n",
    "ps.visualize_labels(point_size=0.03)"
   ]
  },
  {
   "cell_type": "code",
   "execution_count": 3,
   "metadata": {},
   "outputs": [
    {
     "name": "stdout",
     "output_type": "stream",
     "text": [
      "(4,)\n"
     ]
    },
    {
     "data": {
      "text/plain": [
       "array([array([[0.42043564, 0.56765413, 0.29466069],\n",
       "              [0.        , 0.        , 0.        ],\n",
       "              [0.        , 0.        , 0.        ],\n",
       "              ...,\n",
       "              [0.        , 0.        , 0.        ],\n",
       "              [0.        , 0.        , 0.        ],\n",
       "              [0.        , 0.        , 0.        ]]),\n",
       "       array([[ 0.07844406, -0.13280423, -0.27340928],\n",
       "              [ 0.0592365 , -0.13280423, -0.04818097],\n",
       "              [ 0.29709443, -0.13280423,  0.12956479],\n",
       "              ...,\n",
       "              [-0.35442415, -0.05866591,  0.26154843],\n",
       "              [-0.31337789, -0.01375383,  0.28958052],\n",
       "              [-0.36830866,  0.39737687,  0.31736973]]),\n",
       "       array([[ 0.37414727, -0.43283877, -0.40911701],\n",
       "              [ 0.3629142 , -0.22179854, -0.414096  ],\n",
       "              [ 0.37406632, -0.43154341, -0.3952325 ],\n",
       "              ...,\n",
       "              [ 0.40527606, -0.58795643,  0.31698519],\n",
       "              [ 0.39598599, -0.60684013,  0.30662242],\n",
       "              [ 0.37439016, -0.79719532,  0.34880212]]),\n",
       "       array([[ 0.42019278,  0.32763058, -0.0712948 ],\n",
       "              [ 0.44227436,  0.31024459,  0.11505287],\n",
       "              [ 0.42264178,  0.3164987 ,  0.20908689],\n",
       "              ...,\n",
       "              [ 0.42628494,  0.04067095, -0.3630715 ],\n",
       "              [ 0.41555786,  0.18662001, -0.32004172],\n",
       "              [-0.43382484, -0.00381609, -0.3506645 ]])], dtype=object)"
      ]
     },
     "execution_count": 3,
     "metadata": {},
     "output_type": "execute_result"
    }
   ],
   "source": [
    "print(ps.label_ssegs.shape)\n",
    "ps.label_ssegs"
   ]
  },
  {
   "cell_type": "code",
   "execution_count": 4,
   "metadata": {},
   "outputs": [
    {
     "name": "stdout",
     "output_type": "stream",
     "text": [
      "(25600, 3)\n"
     ]
    },
    {
     "data": {
      "text/plain": [
       "array([[ 0.42043564,  0.56765413,  0.2946607 ],\n",
       "       [ 0.        ,  0.        ,  0.        ],\n",
       "       [ 0.        ,  0.        ,  0.        ],\n",
       "       ...,\n",
       "       [ 0.41555786,  0.18662001, -0.32004172],\n",
       "       [-0.43382484, -0.00381609, -0.3506645 ],\n",
       "       [-0.42471692,  0.28925595, -0.35011804]], dtype=float32)"
      ]
     },
     "execution_count": 4,
     "metadata": {},
     "output_type": "execute_result"
    }
   ],
   "source": [
    "print(ps.final_pc.shape)\n",
    "ps.final_pc"
   ]
  },
  {
   "cell_type": "code",
   "execution_count": 5,
   "metadata": {},
   "outputs": [
    {
     "data": {
      "application/vnd.jupyter.widget-view+json": {
       "model_id": "d5a2ce807bef4b89a6b3941446bb2451",
       "version_major": 2,
       "version_minor": 0
      },
      "text/plain": [
       "Output()"
      ]
     },
     "metadata": {},
     "output_type": "display_data"
    },
    {
     "data": {
      "application/vnd.jupyter.widget-view+json": {
       "model_id": "4e54befdbf814aeea4d3dbd4d3424d83",
       "version_major": 2,
       "version_minor": 0
      },
      "text/plain": [
       "Output()"
      ]
     },
     "metadata": {},
     "output_type": "display_data"
    },
    {
     "data": {
      "application/vnd.jupyter.widget-view+json": {
       "model_id": "0e100a7b7ca44e6fbb04435dcd20b0fa",
       "version_major": 2,
       "version_minor": 0
      },
      "text/plain": [
       "Output()"
      ]
     },
     "metadata": {},
     "output_type": "display_data"
    }
   ],
   "source": [
    "with open(pg2shapenet[pg_idx]['mesh']) as fp:\n",
    "    mesh = trimesh.exchange.obj.load_obj(fp, include_color=False, include_texture=False)\n",
    "\n",
    "p_meshes = []\n",
    "for g in mesh['geometry'].values():\n",
    "    faces, vertices = g['faces'], g['vertices']\n",
    "    p_meshes.append({'faces': faces, 'vertices': vertices})\n",
    "    visualize_meshes(p_meshes)"
   ]
  }
 ],
 "metadata": {
  "kernelspec": {
   "display_name": "Python 3.9.13 ('dl3d')",
   "language": "python",
   "name": "python3"
  },
  "language_info": {
   "codemirror_mode": {
    "name": "ipython",
    "version": 3
   },
   "file_extension": ".py",
   "mimetype": "text/x-python",
   "name": "python",
   "nbconvert_exporter": "python",
   "pygments_lexer": "ipython3",
   "version": "3.9.13"
  },
  "orig_nbformat": 4,
  "vscode": {
   "interpreter": {
    "hash": "5edac632bc030e698bde792f49d6429b3d15e7fbac06b4787d1057cf5bdd41d1"
   }
  }
 },
 "nbformat": 4,
 "nbformat_minor": 2
}
