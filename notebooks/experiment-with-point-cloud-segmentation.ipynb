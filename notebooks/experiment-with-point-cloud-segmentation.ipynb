{
 "cells": [
  {
   "cell_type": "code",
   "execution_count": 13,
   "metadata": {},
   "outputs": [
    {
     "name": "stdout",
     "output_type": "stream",
     "text": [
      "The autoreload extension is already loaded. To reload it, use:\n",
      "  %reload_ext autoreload\n",
      "runing\n"
     ]
    }
   ],
   "source": [
    "%load_ext autoreload\n",
    "%autoreload 2\n",
    "print('runing')\n"
   ]
  },
  {
   "cell_type": "code",
   "execution_count": 2,
   "metadata": {},
   "outputs": [
    {
     "name": "stdout",
     "output_type": "stream",
     "text": [
      "PartSegmenter initialized with\n",
      "- sseg_count: 25\n",
      "- partglot_data_dir: /home/bellatini/DL3D-Practical/data/partglot\n",
      "- partglot_model_path: /home/bellatini/DL3D-Practical/models/partglot_pn_agnostic.ckpt\n",
      "\n",
      "Starting to run...\n",
      "\n",
      "Startint point cloud preprocessing (super segmentation)\n",
      "\n",
      "Running point cloud stats with use_bsp_ssegs_gt=False\n",
      "- unique point percentage: 93.0%\n",
      "- unique point percentage (non-zeros): 93.0%\n",
      "\n",
      "Successfully ran part segmentation with use_sseg_gt=False\n",
      "\n",
      "## About to visualize super segments - self.use_sseg_gt=False\n",
      "Visualization rendering started...\n"
     ]
    },
    {
     "data": {
      "application/vnd.jupyter.widget-view+json": {
       "model_id": "5b36009e21c14ff2b6ce821024bbaf3e",
       "version_major": 2,
       "version_minor": 0
      },
      "text/plain": [
       "Output()"
      ]
     },
     "metadata": {},
     "output_type": "display_data"
    },
    {
     "name": "stdout",
     "output_type": "stream",
     "text": [
      "## About to visualize part labels\n",
      "Visualization rendering started...\n"
     ]
    },
    {
     "data": {
      "application/vnd.jupyter.widget-view+json": {
       "model_id": "50862ae0a4fb49b7aba2b7d21344e314",
       "version_major": 2,
       "version_minor": 0
      },
      "text/plain": [
       "Output()"
      ]
     },
     "metadata": {},
     "output_type": "display_data"
    }
   ],
   "source": [
    "import trimesh\n",
    "from src.partglot.wrapper import PartSegmenter\n",
    "cluster_tgt = \"normals\" # normals | vertices | vertices_and_normals\n",
    "\n",
    "ps = PartSegmenter(sseg_count=25)\n",
    "tm = trimesh.load_mesh(\"/home/bellatini/DL3D-Practical/data/chair_testmesh.obj\")\n",
    "ps.run_from_trimesh(tm, cluster_tgt=cluster_tgt)\n",
    "ps.visualize_ssegs()\n",
    "ps.visualize_labels()\n"
   ]
  },
  {
   "cell_type": "code",
   "execution_count": 14,
   "metadata": {},
   "outputs": [
    {
     "name": "stdout",
     "output_type": "stream",
     "text": [
      "PartSegmenter initialized with\n",
      "- sseg_count: 25\n",
      "- partglot_data_dir: /home/bellatini/DL3D-Practical/data/partglot\n",
      "- partglot_model_path: /home/bellatini/DL3D-Practical/models/partglot_pn_agnostic.ckpt\n",
      "\n",
      "Starting to run...\n",
      "\n",
      "Startint point cloud preprocessing (super segmentation)\n",
      "\n"
     ]
    },
    {
     "ename": "NotImplementedError",
     "evalue": "",
     "output_type": "error",
     "traceback": [
      "\u001b[0;31m---------------------------------------------------------------------------\u001b[0m",
      "\u001b[0;31mNotImplementedError\u001b[0m                       Traceback (most recent call last)",
      "Cell \u001b[0;32mIn [14], line 7\u001b[0m\n\u001b[1;32m      5\u001b[0m bsp_idx \u001b[39m=\u001b[39m \u001b[39m0\u001b[39m\n\u001b[1;32m      6\u001b[0m ps \u001b[39m=\u001b[39m PartSegmenter(sseg_count\u001b[39m=\u001b[39m\u001b[39m25\u001b[39m)\n\u001b[0;32m----> 7\u001b[0m ps\u001b[39m.\u001b[39;49mrun_bspnet_data(bsp_idx\u001b[39m=\u001b[39;49mbsp_idx)\n\u001b[1;32m      8\u001b[0m ps\u001b[39m.\u001b[39mvisualize_ssegs()\n\u001b[1;32m      9\u001b[0m ps\u001b[39m.\u001b[39mvisualize_labels()\n",
      "File \u001b[0;32m~/DL3D-Practical/src/partglot/wrapper.py:74\u001b[0m, in \u001b[0;36mPartSegmenter.run_bspnet_data\u001b[0;34m(self, bsp_idx)\u001b[0m\n\u001b[1;32m     72\u001b[0m \u001b[39mdef\u001b[39;00m \u001b[39mrun_bspnet_data\u001b[39m(\u001b[39mself\u001b[39m, bsp_idx:\u001b[39mint\u001b[39m) \u001b[39m-\u001b[39m\u001b[39m>\u001b[39m \u001b[39mtuple\u001b[39m:\n\u001b[1;32m     73\u001b[0m     \u001b[39mself\u001b[39m\u001b[39m.\u001b[39mfinal_mask, \u001b[39mself\u001b[39m\u001b[39m.\u001b[39mfinal_pc, \u001b[39mself\u001b[39m\u001b[39m.\u001b[39mlabel_ssegs \u001b[39m=\u001b[39m \\\n\u001b[0;32m---> 74\u001b[0m         \u001b[39mself\u001b[39;49m\u001b[39m.\u001b[39;49m_dummy_run(mesh\u001b[39m=\u001b[39;49m\u001b[39mNone\u001b[39;49;00m, bsp_idx\u001b[39m=\u001b[39;49mbsp_idx, cluster_tgt\u001b[39m=\u001b[39;49m\u001b[39mNone\u001b[39;49;00m, use_sseg_gt\u001b[39m=\u001b[39;49m\u001b[39mFalse\u001b[39;49;00m, sample_idx\u001b[39m=\u001b[39;49m\u001b[39mNone\u001b[39;49;00m)\n\u001b[1;32m     75\u001b[0m     \u001b[39mreturn\u001b[39;00m \u001b[39mself\u001b[39m\u001b[39m.\u001b[39mfinal_mask, \u001b[39mself\u001b[39m\u001b[39m.\u001b[39mfinal_pc, \u001b[39mself\u001b[39m\u001b[39m.\u001b[39mlabel_ssegs\n",
      "File \u001b[0;32m~/DL3D-Practical/src/partglot/wrapper.py:97\u001b[0m, in \u001b[0;36mPartSegmenter._dummy_run\u001b[0;34m(self, mesh, bsp_idx, cluster_tgt, use_sseg_gt, sample_idx)\u001b[0m\n\u001b[1;32m     95\u001b[0m \u001b[39mself\u001b[39m\u001b[39m.\u001b[39mref_sseg_data, \u001b[39mself\u001b[39m\u001b[39m.\u001b[39mref_mask_data \u001b[39m=\u001b[39m \u001b[39mself\u001b[39m\u001b[39m.\u001b[39m_load_partglot_ref(sample_idx)\n\u001b[1;32m     96\u001b[0m \u001b[39mself\u001b[39m\u001b[39m.\u001b[39mmesh \u001b[39m=\u001b[39m mesh \u001b[39mif\u001b[39;00m mesh \u001b[39melse\u001b[39;00m \u001b[39mself\u001b[39m\u001b[39m.\u001b[39mref_sseg_data\n\u001b[0;32m---> 97\u001b[0m \u001b[39mself\u001b[39m\u001b[39m.\u001b[39msup_segs, \u001b[39mself\u001b[39m\u001b[39m.\u001b[39mpc2sup_segs \u001b[39m=\u001b[39m \u001b[39mself\u001b[39;49m\u001b[39m.\u001b[39;49m_get_ssegs(\u001b[39mself\u001b[39;49m\u001b[39m.\u001b[39;49mmesh, cluster_tgt\u001b[39m=\u001b[39;49mcluster_tgt, bsp_idx\u001b[39m=\u001b[39;49mbsp_idx)\n\u001b[1;32m     98\u001b[0m \u001b[39mself\u001b[39m\u001b[39m.\u001b[39msseg_count \u001b[39m=\u001b[39m \u001b[39mself\u001b[39m\u001b[39m.\u001b[39mpc2sup_segs\u001b[39m.\u001b[39mmax() \u001b[39m+\u001b[39m \u001b[39m1\u001b[39m \n\u001b[1;32m     99\u001b[0m \u001b[39mself\u001b[39m\u001b[39m.\u001b[39m_set_predict_input(\u001b[39mself\u001b[39m\u001b[39m.\u001b[39muse_sseg_gt)\n",
      "File \u001b[0;32m~/DL3D-Practical/src/partglot/wrapper.py:125\u001b[0m, in \u001b[0;36mPartSegmenter._get_ssegs\u001b[0;34m(self, batch_point_cloud, cluster_tgt, bsp_idx)\u001b[0m\n\u001b[1;32m    123\u001b[0m     \u001b[39mreturn\u001b[39;00m sup_segs, pc2sup_segs\n\u001b[1;32m    124\u001b[0m \u001b[39melse\u001b[39;00m:\n\u001b[0;32m--> 125\u001b[0m     \u001b[39mreturn\u001b[39;00m preprocess_point_cloud(batch_point_cloud, cluster_tgt\u001b[39m=\u001b[39;49mcluster_tgt)\n",
      "File \u001b[0;32m~/DL3D-Practical/src/partglot/utils/predict.py:59\u001b[0m, in \u001b[0;36mpreprocess_point_cloud\u001b[0;34m(mesh, cluster_method, cluster_tgt, n_ssseg_custom, random_state)\u001b[0m\n\u001b[1;32m     57\u001b[0m     cluster_tgt, coordinates \u001b[39m=\u001b[39m zip_arrays(mesh\u001b[39m.\u001b[39mvertex_normals, mesh\u001b[39m.\u001b[39mvertices), mesh\u001b[39m.\u001b[39mvertices\n\u001b[1;32m     58\u001b[0m \u001b[39melse\u001b[39;00m:\n\u001b[0;32m---> 59\u001b[0m     \u001b[39mraise\u001b[39;00m \u001b[39mNotImplementedError\u001b[39;00m\n\u001b[1;32m     61\u001b[0m \u001b[39mif\u001b[39;00m cluster_method \u001b[39m==\u001b[39m \u001b[39m\"\u001b[39m\u001b[39mdbscan\u001b[39m\u001b[39m\"\u001b[39m:\n\u001b[1;32m     62\u001b[0m     clusterizer  \u001b[39m=\u001b[39m DBSCAN(eps\u001b[39m=\u001b[39m\u001b[39m1.25\u001b[39m)\n",
      "\u001b[0;31mNotImplementedError\u001b[0m: "
     ]
    }
   ],
   "source": [
    "import trimesh\n",
    "from src.partglot.wrapper import PartSegmenter\n",
    "cluster_tgt = \"normals\" # normals | vertices | vertices_and_normals\n",
    "\n",
    "bsp_idx = 0\n",
    "ps = PartSegmenter(sseg_count=25)\n",
    "ps.run_bspnet_data(bsp_idx=bsp_idx)\n",
    "ps.visualize_ssegs()\n",
    "ps.visualize_labels()\n"
   ]
  },
  {
   "cell_type": "code",
   "execution_count": 5,
   "metadata": {},
   "outputs": [
    {
     "data": {
      "text/plain": [
       "((25, 512, 3), (25,))"
      ]
     },
     "execution_count": 5,
     "metadata": {},
     "output_type": "execute_result"
    }
   ],
   "source": [
    "ps.sup_segs.shape[0], ps.pc2sup_segs.shape"
   ]
  },
  {
   "cell_type": "code",
   "execution_count": null,
   "metadata": {},
   "outputs": [
    {
     "name": "stdout",
     "output_type": "stream",
     "text": [
      "PartSegmenter initialized with\n",
      "- sseg_count: 25\n",
      "- partglot_data_dir: /home/bellatini/DL3D-Practical/data/partglot\n",
      "- partglot_model_path: /home/bellatini/DL3D-Practical/models/partglot_pn_agnostic.ckpt\n",
      "\n",
      "Running point cloud stats with use_bsp_ssegs_gt=True\n",
      "- unique point percentage: 10.3%\n",
      "- unique point percentage (non-zeros): 34.3%\n",
      "\n",
      "Successfully ran part segmentation with use_sseg_gt=True\n",
      "\n",
      "## About to visualize super segments - self.use_sseg_gt=True\n",
      "Visualization rendering started...\n"
     ]
    },
    {
     "data": {
      "application/vnd.jupyter.widget-view+json": {
       "model_id": "589328cddfa14ad5866ad56df40ce4c6",
       "version_major": 2,
       "version_minor": 0
      },
      "text/plain": [
       "Output()"
      ]
     },
     "metadata": {},
     "output_type": "display_data"
    },
    {
     "name": "stdout",
     "output_type": "stream",
     "text": [
      "## About to visualize part labels\n",
      "Visualization rendering started...\n"
     ]
    },
    {
     "data": {
      "application/vnd.jupyter.widget-view+json": {
       "model_id": "4ab98b4c5b7e4a3e8b8c259012bfe0a0",
       "version_major": 2,
       "version_minor": 0
      },
      "text/plain": [
       "Output()"
      ]
     },
     "metadata": {},
     "output_type": "display_data"
    },
    {
     "name": "stdout",
     "output_type": "stream",
     "text": [
      "Running point cloud stats with use_bsp_ssegs_gt=False\n",
      "- unique point percentage: 19.2%\n",
      "- unique point percentage (non-zeros): 20.0%\n",
      "\n",
      "Successfully ran part segmentation with use_sseg_gt=False\n",
      "\n",
      "## About to visualize super segments - self.use_sseg_gt=False\n",
      "Visualization rendering started...\n"
     ]
    },
    {
     "data": {
      "application/vnd.jupyter.widget-view+json": {
       "model_id": "aa53646c0e5148959c6bd58306c91b71",
       "version_major": 2,
       "version_minor": 0
      },
      "text/plain": [
       "Output()"
      ]
     },
     "metadata": {},
     "output_type": "display_data"
    },
    {
     "name": "stdout",
     "output_type": "stream",
     "text": [
      "## About to visualize part labels\n",
      "Visualization rendering started...\n"
     ]
    },
    {
     "data": {
      "application/vnd.jupyter.widget-view+json": {
       "model_id": "c9242da7496a4ec3982ee0a1c62a27f7",
       "version_major": 2,
       "version_minor": 0
      },
      "text/plain": [
       "Output()"
      ]
     },
     "metadata": {},
     "output_type": "display_data"
    }
   ],
   "source": [
    "import trimesh\n",
    "from src.partglot.wrapper import PartSegmenter\n",
    "idx = 2\n",
    "cluster_tgt = \"vertices\" # normals | vertices | vertices_and_normals\n",
    "ps = PartSegmenter(sseg_count=25)\n",
    "tm = trimesh.load_mesh(\"/home/bellatini/DL3D-Practical/data/chair_testmesh.obj\")\n",
    "ps.run_from_ref_data(sample_idx=idx, cluster_tgt=cluster_tgt)\n",
    "ps.visualize_ssegs(point_size=0.025)\n",
    "ps.visualize_labels(point_size=0.025)\n",
    "ps.run_from_ref_data(sample_idx=idx, use_sseg_gt=False, cluster_tgt=cluster_tgt)\n",
    "ps.visualize_ssegs(point_size=0.025)\n",
    "ps.visualize_labels(point_size=0.025)\n"
   ]
  }
 ],
 "metadata": {
  "kernelspec": {
   "display_name": "Python 3.9.13 ('dl3d')",
   "language": "python",
   "name": "python3"
  },
  "language_info": {
   "codemirror_mode": {
    "name": "ipython",
    "version": 3
   },
   "file_extension": ".py",
   "mimetype": "text/x-python",
   "name": "python",
   "nbconvert_exporter": "python",
   "pygments_lexer": "ipython3",
   "version": "3.9.13"
  },
  "orig_nbformat": 4,
  "vscode": {
   "interpreter": {
    "hash": "5edac632bc030e698bde792f49d6429b3d15e7fbac06b4787d1057cf5bdd41d1"
   }
  }
 },
 "nbformat": 4,
 "nbformat_minor": 2
}
