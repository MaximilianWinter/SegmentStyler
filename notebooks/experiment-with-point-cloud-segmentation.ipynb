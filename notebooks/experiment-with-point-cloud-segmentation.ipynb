{
 "cells": [
  {
   "cell_type": "code",
   "execution_count": 1,
   "metadata": {},
   "outputs": [
    {
     "name": "stdout",
     "output_type": "stream",
     "text": [
      "runing\n"
     ]
    }
   ],
   "source": [
    "%load_ext autoreload\n",
    "%autoreload 2\n",
    "print('runing')\n"
   ]
  },
  {
   "cell_type": "code",
   "execution_count": 2,
   "metadata": {},
   "outputs": [
    {
     "name": "stdout",
     "output_type": "stream",
     "text": [
      "PartSegmenter initialized with\n",
      "- sseg_count: 25\n",
      "- partglot_data_dir: /home/bellatini/DL3D-Practical/data/partglot\n",
      "- partglot_model_path: /home/bellatini/DL3D-Practical/models/partglot_pn_agnostic.ckpt\n",
      "\n",
      "Starting to run...\n",
      "\n",
      "Startint point cloud preprocessing (super segmentation)\n",
      "\n",
      "Running point cloud stats with use_bsp_ssegs_gt=False\n",
      "- unique point percentage: 93.0%\n",
      "- unique point percentage (non-zeros): 93.0%\n",
      "\n",
      "Successfully ran part segmentation with use_sseg_gt=False\n",
      "\n",
      "## About to visualize super segments - self.use_sseg_gt=False\n",
      "Visualization rendering started...\n"
     ]
    },
    {
     "data": {
      "application/vnd.jupyter.widget-view+json": {
       "model_id": "e536c3913f37415b9f60494d30715b21",
       "version_major": 2,
       "version_minor": 0
      },
      "text/plain": [
       "Output()"
      ]
     },
     "metadata": {},
     "output_type": "display_data"
    },
    {
     "name": "stdout",
     "output_type": "stream",
     "text": [
      "## About to visualize part labels\n",
      "Visualization rendering started...\n"
     ]
    },
    {
     "data": {
      "application/vnd.jupyter.widget-view+json": {
       "model_id": "ef45fcb930f74091884196a17f60dd17",
       "version_major": 2,
       "version_minor": 0
      },
      "text/plain": [
       "Output()"
      ]
     },
     "metadata": {},
     "output_type": "display_data"
    }
   ],
   "source": [
    "import trimesh\n",
    "from src.partglot.wrapper import PartSegmenter\n",
    "cluster_tgt = \"normals\" # normals | vertices | vertices_and_normals\n",
    "\n",
    "ps = PartSegmenter(sseg_count=25)\n",
    "tm = trimesh.load_mesh(\"/home/bellatini/DL3D-Practical/data/chair_testmesh.obj\")\n",
    "ps.run_from_trimesh(tm, cluster_tgt=cluster_tgt)\n",
    "ps.visualize_ssegs()\n",
    "ps.visualize_labels()\n"
   ]
  },
  {
   "cell_type": "code",
   "execution_count": 8,
   "metadata": {},
   "outputs": [
    {
     "data": {
      "text/plain": [
       "((25, 512, 3), (25,))"
      ]
     },
     "execution_count": 8,
     "metadata": {},
     "output_type": "execute_result"
    }
   ],
   "source": [
    "ps.sup_segs.shape, ps.pc2sup_segs.shape"
   ]
  },
  {
   "cell_type": "code",
   "execution_count": 18,
   "metadata": {},
   "outputs": [
    {
     "data": {
      "text/plain": [
       "array([ 0,  1,  2,  3,  4,  5,  6,  7,  8,  9, 10, 11, 12, 13, 14, 15, 16,\n",
       "       17, 18, 19, 20, 21, 22, 23, 24], dtype=int32)"
      ]
     },
     "execution_count": 18,
     "metadata": {},
     "output_type": "execute_result"
    }
   ],
   "source": [
    "import numpy as np\n",
    "\n",
    "# ps.pc2sup_segs"
   ]
  },
  {
   "cell_type": "code",
   "execution_count": null,
   "metadata": {},
   "outputs": [
    {
     "name": "stdout",
     "output_type": "stream",
     "text": [
      "PartSegmenter initialized with\n",
      "- sseg_count: 25\n",
      "- partglot_data_dir: /home/bellatini/DL3D-Practical/data/partglot\n",
      "- partglot_model_path: /home/bellatini/DL3D-Practical/models/partglot_pn_agnostic.ckpt\n",
      "\n",
      "Running point cloud stats with use_bsp_ssegs_gt=True\n",
      "- unique point percentage: 10.3%\n",
      "- unique point percentage (non-zeros): 34.3%\n",
      "\n",
      "Successfully ran part segmentation with use_sseg_gt=True\n",
      "\n",
      "## About to visualize super segments - self.use_sseg_gt=True\n",
      "Visualization rendering started...\n"
     ]
    },
    {
     "data": {
      "application/vnd.jupyter.widget-view+json": {
       "model_id": "589328cddfa14ad5866ad56df40ce4c6",
       "version_major": 2,
       "version_minor": 0
      },
      "text/plain": [
       "Output()"
      ]
     },
     "metadata": {},
     "output_type": "display_data"
    },
    {
     "name": "stdout",
     "output_type": "stream",
     "text": [
      "## About to visualize part labels\n",
      "Visualization rendering started...\n"
     ]
    },
    {
     "data": {
      "application/vnd.jupyter.widget-view+json": {
       "model_id": "4ab98b4c5b7e4a3e8b8c259012bfe0a0",
       "version_major": 2,
       "version_minor": 0
      },
      "text/plain": [
       "Output()"
      ]
     },
     "metadata": {},
     "output_type": "display_data"
    },
    {
     "name": "stdout",
     "output_type": "stream",
     "text": [
      "Running point cloud stats with use_bsp_ssegs_gt=False\n",
      "- unique point percentage: 19.2%\n",
      "- unique point percentage (non-zeros): 20.0%\n",
      "\n",
      "Successfully ran part segmentation with use_sseg_gt=False\n",
      "\n",
      "## About to visualize super segments - self.use_sseg_gt=False\n",
      "Visualization rendering started...\n"
     ]
    },
    {
     "data": {
      "application/vnd.jupyter.widget-view+json": {
       "model_id": "aa53646c0e5148959c6bd58306c91b71",
       "version_major": 2,
       "version_minor": 0
      },
      "text/plain": [
       "Output()"
      ]
     },
     "metadata": {},
     "output_type": "display_data"
    },
    {
     "name": "stdout",
     "output_type": "stream",
     "text": [
      "## About to visualize part labels\n",
      "Visualization rendering started...\n"
     ]
    },
    {
     "data": {
      "application/vnd.jupyter.widget-view+json": {
       "model_id": "c9242da7496a4ec3982ee0a1c62a27f7",
       "version_major": 2,
       "version_minor": 0
      },
      "text/plain": [
       "Output()"
      ]
     },
     "metadata": {},
     "output_type": "display_data"
    }
   ],
   "source": [
    "import trimesh\n",
    "from src.partglot.wrapper import PartSegmenter\n",
    "idx = 2\n",
    "cluster_tgt = \"vertices\" # normals | vertices | vertices_and_normals\n",
    "ps = PartSegmenter(sseg_count=25)\n",
    "tm = trimesh.load_mesh(\"/home/bellatini/DL3D-Practical/data/chair_testmesh.obj\")\n",
    "ps.run_from_ref_data(sample_idx=idx, cluster_tgt=cluster_tgt)\n",
    "ps.visualize_ssegs(point_size=0.025)\n",
    "ps.visualize_labels(point_size=0.025)\n",
    "ps.run_from_ref_data(sample_idx=idx, use_sseg_gt=False, cluster_tgt=cluster_tgt)\n",
    "ps.visualize_ssegs(point_size=0.025)\n",
    "ps.visualize_labels(point_size=0.025)\n"
   ]
  }
 ],
 "metadata": {
  "kernelspec": {
   "display_name": "Python 3.9.13 ('dl3d')",
   "language": "python",
   "name": "python3"
  },
  "language_info": {
   "codemirror_mode": {
    "name": "ipython",
    "version": 3
   },
   "file_extension": ".py",
   "mimetype": "text/x-python",
   "name": "python",
   "nbconvert_exporter": "python",
   "pygments_lexer": "ipython3",
   "version": "3.9.13"
  },
  "orig_nbformat": 4,
  "vscode": {
   "interpreter": {
    "hash": "5edac632bc030e698bde792f49d6429b3d15e7fbac06b4787d1057cf5bdd41d1"
   }
  }
 },
 "nbformat": 4,
 "nbformat_minor": 2
}
