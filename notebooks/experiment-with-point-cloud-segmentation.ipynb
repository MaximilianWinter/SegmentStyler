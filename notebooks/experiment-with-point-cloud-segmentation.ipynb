{
 "cells": [
  {
   "cell_type": "code",
   "execution_count": 1,
   "metadata": {},
   "outputs": [
    {
     "name": "stdout",
     "output_type": "stream",
     "text": [
      "runing\n"
     ]
    }
   ],
   "source": [
    "%load_ext autoreload\n",
    "%autoreload 2\n",
    "print('runing')\n"
   ]
  },
  {
   "cell_type": "code",
   "execution_count": 20,
   "metadata": {},
   "outputs": [
    {
     "name": "stdout",
     "output_type": "stream",
     "text": [
      "PartSegmenter initialized with\n",
      "- sseg_count: 25\n",
      "- partglot_data_dir: /home/bellatini/DL3D-Practical/data/partglot\n",
      "- partglot_model_path: /home/bellatini/DL3D-Practical/models/partglot_pn_aware.ckpt\n",
      "\n",
      "Starting to run...\n",
      "\n",
      "Running point cloud stats with use_bsp_ssegs_gt=True\n",
      "- unique point percentage: 10.8%\n",
      "- unique point percentage (non-zeros): 16.4%\n",
      "\n",
      "Successfully ran part segmentation with use_sseg_gt=True\n",
      "\n",
      "## About to visualize part labels\n",
      "Visualization rendering started...\n"
     ]
    },
    {
     "data": {
      "application/vnd.jupyter.widget-view+json": {
       "model_id": "5d44b9a5c52c4f44a829a8d1f27fc384",
       "version_major": 2,
       "version_minor": 0
      },
      "text/plain": [
       "Output()"
      ]
     },
     "metadata": {},
     "output_type": "display_data"
    }
   ],
   "source": [
    "# PNAware Model\n",
    "# ground truth super segmentation (present in PartGlot already)\n",
    "# ----------------------------------------------------------------\n",
    "from src.partglot.wrapper import PartSegmenter\n",
    "\n",
    "pg_idx = 8 # good: 40  | acceptable: 55, 70\n",
    "ps = PartSegmenter()\n",
    "ps.run_from_ref_data(sample_idx=pg_idx, use_sseg_gt=True)\n",
    "# ps.visualize_ssegs(point_size=0.03)\n",
    "ps.visualize_labels(point_size=0.03)"
   ]
  },
  {
   "cell_type": "code",
   "execution_count": 21,
   "metadata": {},
   "outputs": [
    {
     "name": "stdout",
     "output_type": "stream",
     "text": [
      "PartSegmenter initialized with\n",
      "- sseg_count: 25\n",
      "- partglot_data_dir: /home/bellatini/DL3D-Practical/data/partglot\n",
      "- partglot_model_path: /home/bellatini/DL3D-Practical/models/partglot_pn_agnostic.ckpt\n",
      "\n",
      "Starting to run...\n",
      "\n",
      "Running point cloud stats with use_bsp_ssegs_gt=True\n",
      "- unique point percentage: 10.8%\n",
      "- unique point percentage (non-zeros): 16.4%\n",
      "\n",
      "Successfully ran part segmentation with use_sseg_gt=True\n",
      "\n",
      "## About to visualize part labels\n",
      "Visualization rendering started...\n"
     ]
    },
    {
     "data": {
      "application/vnd.jupyter.widget-view+json": {
       "model_id": "0608414f5ccb47ec97befbf0f6cc7316",
       "version_major": 2,
       "version_minor": 0
      },
      "text/plain": [
       "Output()"
      ]
     },
     "metadata": {},
     "output_type": "display_data"
    }
   ],
   "source": [
    "# PNAgnostic Model\n",
    "# ----------------------------------------------------------------\n",
    "from src.partglot.wrapper import PartSegmenter\n",
    "\n",
    "from src.helper.paths import LOCAL_MODELS_PATH\n",
    "\n",
    "agnostic_model_path = LOCAL_MODELS_PATH / \"partglot_pn_agnostic.ckpt\"\n",
    "\n",
    "# pg_idx = 2 # good: 40  | acceptable: 55, 70\n",
    "ps = PartSegmenter(partglot_model_path=agnostic_model_path)\n",
    "ps.run_from_ref_data(sample_idx=pg_idx, use_sseg_gt=True)\n",
    "# ps.visualize_ssegs(point_size=0.03)\n",
    "ps.visualize_labels(point_size=0.03)\n"
   ]
  },
  {
   "cell_type": "code",
   "execution_count": null,
   "metadata": {},
   "outputs": [],
   "source": [
    "# custom mesh super segmentation (based on obj file)\n",
    "# however: bad quality output....\n",
    "# ----------------------------------------------------------------\n",
    "import trimesh\n",
    "from src.partglot.wrapper import PartSegmenter\n",
    "cluster_tgt = \"normals\" # normals | vertices | vertices_and_normals\n",
    "\n",
    "ps = PartSegmenter(sseg_count=25)\n",
    "tm = trimesh.load_mesh(\"/home/bellatini/DL3D-Practical/data/chair_testmesh.obj\")\n",
    "ps.run_from_trimesh(tm, cluster_tgt=cluster_tgt)\n",
    "ps.visualize_ssegs()\n",
    "ps.visualize_labels()"
   ]
  },
  {
   "cell_type": "code",
   "execution_count": 7,
   "metadata": {},
   "outputs": [
    {
     "name": "stdout",
     "output_type": "stream",
     "text": [
      "PartSegmenter initialized with\n",
      "- sseg_count: 25\n",
      "- partglot_data_dir: /home/bellatini/DL3D-Practical/data/partglot\n",
      "- partglot_model_path: /home/bellatini/DL3D-Practical/models/partglot_pn_aware.ckpt\n",
      "\n",
      "Starting to run...\n",
      "\n",
      "Running point cloud stats with use_bsp_ssegs_gt=False\n",
      "- unique point percentage: 52.0%\n",
      "- unique point percentage (non-zeros): 52.0%\n",
      "\n",
      "Successfully ran part segmentation with use_sseg_gt=False\n",
      "\n",
      "## About to visualize part labels\n",
      "Visualization rendering started...\n"
     ]
    },
    {
     "data": {
      "application/vnd.jupyter.widget-view+json": {
       "model_id": "1f6df32252404228a1d38542bc19194c",
       "version_major": 2,
       "version_minor": 0
      },
      "text/plain": [
       "Output()"
      ]
     },
     "metadata": {},
     "output_type": "display_data"
    }
   ],
   "source": [
    "# custom super segmentation (based on bspnet dataset)\n",
    "# ----------------------------------------------------------------\n",
    "from src.partglot.wrapper import PartSegmenter\n",
    "\n",
    "bsp_idx = 0 # 3: acceptable\n",
    "ps = PartSegmenter(sseg_count=25)\n",
    "ps.run_bspnet_data(bsp_idx=bsp_idx)\n",
    "# ps.visualize_ssegs(point_size=4)\n",
    "# ps.visualize_labels(point_size=4)\n",
    "# ps.visualize_ssegs(point_size=0.03)\n",
    "ps.visualize_labels(point_size=0.03)\n"
   ]
  }
 ],
 "metadata": {
  "kernelspec": {
   "display_name": "Python 3.9.13 ('dl3d')",
   "language": "python",
   "name": "python3"
  },
  "language_info": {
   "codemirror_mode": {
    "name": "ipython",
    "version": 3
   },
   "file_extension": ".py",
   "mimetype": "text/x-python",
   "name": "python",
   "nbconvert_exporter": "python",
   "pygments_lexer": "ipython3",
   "version": "3.9.13"
  },
  "orig_nbformat": 4,
  "vscode": {
   "interpreter": {
    "hash": "5edac632bc030e698bde792f49d6429b3d15e7fbac06b4787d1057cf5bdd41d1"
   }
  }
 },
 "nbformat": 4,
 "nbformat_minor": 2
}
