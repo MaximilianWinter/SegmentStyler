{
 "cells": [
  {
   "cell_type": "code",
   "execution_count": 13,
   "metadata": {},
   "outputs": [
    {
     "name": "stdout",
     "output_type": "stream",
     "text": [
      "The autoreload extension is already loaded. To reload it, use:\n",
      "  %reload_ext autoreload\n",
      "runing\n"
     ]
    }
   ],
   "source": [
    "%load_ext autoreload\n",
    "%autoreload 2\n",
    "print('runing')\n"
   ]
  },
  {
   "cell_type": "code",
   "execution_count": 35,
   "metadata": {},
   "outputs": [
    {
     "name": "stdout",
     "output_type": "stream",
     "text": [
      "PartSegmenter initialized with\n",
      "- sseg_count: 25\n",
      "- partglot_data_dir: /home/bellatini/DL3D-Practical/data/partglot\n",
      "- partglot_model_path: /home/bellatini/DL3D-Practical/models/partglot_pn_agnostic.ckpt\n",
      "\n",
      "Starting to run...\n",
      "\n",
      "Starting point cloud preprocessing (super segmentation)\n",
      "\n",
      "Running point cloud stats with use_bsp_ssegs_gt=False\n",
      "- unique point percentage: 93.0%\n",
      "- unique point percentage (non-zeros): 93.0%\n",
      "\n",
      "Successfully ran part segmentation with use_sseg_gt=False\n",
      "\n",
      "## About to visualize super segments - self.use_sseg_gt=False\n",
      "Visualization rendering started...\n"
     ]
    },
    {
     "data": {
      "application/vnd.jupyter.widget-view+json": {
       "model_id": "36dc1fd66a51401f84f0f05f95e2b7bc",
       "version_major": 2,
       "version_minor": 0
      },
      "text/plain": [
       "Output()"
      ]
     },
     "metadata": {},
     "output_type": "display_data"
    },
    {
     "name": "stdout",
     "output_type": "stream",
     "text": [
      "## About to visualize part labels\n",
      "Visualization rendering started...\n"
     ]
    },
    {
     "data": {
      "application/vnd.jupyter.widget-view+json": {
       "model_id": "bed1b2ab1c0e4c8c9bf4ab82c0565cac",
       "version_major": 2,
       "version_minor": 0
      },
      "text/plain": [
       "Output()"
      ]
     },
     "metadata": {},
     "output_type": "display_data"
    }
   ],
   "source": [
    "import trimesh\n",
    "from src.partglot.wrapper import PartSegmenter\n",
    "cluster_tgt = \"normals\" # normals | vertices | vertices_and_normals\n",
    "\n",
    "ps = PartSegmenter(sseg_count=25)\n",
    "tm = trimesh.load_mesh(\"/home/bellatini/DL3D-Practical/data/chair_testmesh.obj\")\n",
    "ps.run_from_trimesh(tm, cluster_tgt=cluster_tgt)\n",
    "ps.visualize_ssegs()\n",
    "ps.visualize_labels()\n"
   ]
  },
  {
   "cell_type": "code",
   "execution_count": 52,
   "metadata": {},
   "outputs": [
    {
     "name": "stdout",
     "output_type": "stream",
     "text": [
      "PartSegmenter initialized with\n",
      "- sseg_count: 25\n",
      "- partglot_data_dir: /home/bellatini/DL3D-Practical/data/partglot\n",
      "- partglot_model_path: /home/bellatini/DL3D-Practical/models/partglot_pn_agnostic.ckpt\n",
      "\n",
      "Starting to run...\n",
      "\n",
      "Running point cloud stats with use_bsp_ssegs_gt=False\n",
      "- unique point percentage: 23.6%\n",
      "- unique point percentage (non-zeros): 23.6%\n",
      "\n",
      "Successfully ran part segmentation with use_sseg_gt=False\n",
      "\n",
      "## About to visualize super segments - self.use_sseg_gt=False\n",
      "Visualization rendering started...\n"
     ]
    },
    {
     "data": {
      "application/vnd.jupyter.widget-view+json": {
       "model_id": "d2418a79bd0a4748b77674605d400966",
       "version_major": 2,
       "version_minor": 0
      },
      "text/plain": [
       "Output()"
      ]
     },
     "metadata": {},
     "output_type": "display_data"
    },
    {
     "name": "stdout",
     "output_type": "stream",
     "text": [
      "## About to visualize part labels\n",
      "Visualization rendering started...\n"
     ]
    },
    {
     "data": {
      "application/vnd.jupyter.widget-view+json": {
       "model_id": "5c99e1c2b7dc48a5bd1c143f4abd39f9",
       "version_major": 2,
       "version_minor": 0
      },
      "text/plain": [
       "Output()"
      ]
     },
     "metadata": {},
     "output_type": "display_data"
    }
   ],
   "source": [
    "import trimesh\n",
    "from src.partglot.wrapper import PartSegmenter\n",
    "\n",
    "bsp_idx = 3\n",
    "ps = PartSegmenter(sseg_count=25)\n",
    "ps.run_bspnet_data(bsp_idx=bsp_idx)\n",
    "# ps.visualize_ssegs(point_size=4)\n",
    "# ps.visualize_labels(point_size=4)\n",
    "ps.visualize_ssegs(point_size=0.025)\n",
    "ps.visualize_labels(point_size=0.025)\n"
   ]
  },
  {
   "cell_type": "code",
   "execution_count": null,
   "metadata": {},
   "outputs": [
    {
     "name": "stdout",
     "output_type": "stream",
     "text": [
      "PartSegmenter initialized with\n",
      "- sseg_count: 25\n",
      "- partglot_data_dir: /home/bellatini/DL3D-Practical/data/partglot\n",
      "- partglot_model_path: /home/bellatini/DL3D-Practical/models/partglot_pn_agnostic.ckpt\n",
      "\n",
      "Running point cloud stats with use_bsp_ssegs_gt=True\n",
      "- unique point percentage: 10.3%\n",
      "- unique point percentage (non-zeros): 34.3%\n",
      "\n",
      "Successfully ran part segmentation with use_sseg_gt=True\n",
      "\n",
      "## About to visualize super segments - self.use_sseg_gt=True\n",
      "Visualization rendering started...\n"
     ]
    },
    {
     "data": {
      "application/vnd.jupyter.widget-view+json": {
       "model_id": "589328cddfa14ad5866ad56df40ce4c6",
       "version_major": 2,
       "version_minor": 0
      },
      "text/plain": [
       "Output()"
      ]
     },
     "metadata": {},
     "output_type": "display_data"
    },
    {
     "name": "stdout",
     "output_type": "stream",
     "text": [
      "## About to visualize part labels\n",
      "Visualization rendering started...\n"
     ]
    },
    {
     "data": {
      "application/vnd.jupyter.widget-view+json": {
       "model_id": "4ab98b4c5b7e4a3e8b8c259012bfe0a0",
       "version_major": 2,
       "version_minor": 0
      },
      "text/plain": [
       "Output()"
      ]
     },
     "metadata": {},
     "output_type": "display_data"
    },
    {
     "name": "stdout",
     "output_type": "stream",
     "text": [
      "Running point cloud stats with use_bsp_ssegs_gt=False\n",
      "- unique point percentage: 19.2%\n",
      "- unique point percentage (non-zeros): 20.0%\n",
      "\n",
      "Successfully ran part segmentation with use_sseg_gt=False\n",
      "\n",
      "## About to visualize super segments - self.use_sseg_gt=False\n",
      "Visualization rendering started...\n"
     ]
    },
    {
     "data": {
      "application/vnd.jupyter.widget-view+json": {
       "model_id": "aa53646c0e5148959c6bd58306c91b71",
       "version_major": 2,
       "version_minor": 0
      },
      "text/plain": [
       "Output()"
      ]
     },
     "metadata": {},
     "output_type": "display_data"
    },
    {
     "name": "stdout",
     "output_type": "stream",
     "text": [
      "## About to visualize part labels\n",
      "Visualization rendering started...\n"
     ]
    },
    {
     "data": {
      "application/vnd.jupyter.widget-view+json": {
       "model_id": "c9242da7496a4ec3982ee0a1c62a27f7",
       "version_major": 2,
       "version_minor": 0
      },
      "text/plain": [
       "Output()"
      ]
     },
     "metadata": {},
     "output_type": "display_data"
    }
   ],
   "source": [
    "import trimesh\n",
    "from src.partglot.wrapper import PartSegmenter\n",
    "idx = 2\n",
    "cluster_tgt = \"vertices\" # normals | vertices | vertices_and_normals\n",
    "ps = PartSegmenter(sseg_count=25)\n",
    "tm = trimesh.load_mesh(\"/home/bellatini/DL3D-Practical/data/chair_testmesh.obj\")\n",
    "ps.run_from_ref_data(sample_idx=idx, cluster_tgt=cluster_tgt)\n",
    "ps.visualize_ssegs(point_size=0.025)\n",
    "ps.visualize_labels(point_size=0.025)\n",
    "ps.run_from_ref_data(sample_idx=idx, use_sseg_gt=False, cluster_tgt=cluster_tgt)\n",
    "ps.visualize_ssegs(point_size=0.025)\n",
    "ps.visualize_labels(point_size=0.025)\n"
   ]
  }
 ],
 "metadata": {
  "kernelspec": {
   "display_name": "Python 3.9.13 ('dl3d')",
   "language": "python",
   "name": "python3"
  },
  "language_info": {
   "codemirror_mode": {
    "name": "ipython",
    "version": 3
   },
   "file_extension": ".py",
   "mimetype": "text/x-python",
   "name": "python",
   "nbconvert_exporter": "python",
   "pygments_lexer": "ipython3",
   "version": "3.9.13"
  },
  "orig_nbformat": 4,
  "vscode": {
   "interpreter": {
    "hash": "5edac632bc030e698bde792f49d6429b3d15e7fbac06b4787d1057cf5bdd41d1"
   }
  }
 },
 "nbformat": 4,
 "nbformat_minor": 2
}
