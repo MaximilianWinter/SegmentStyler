{
 "cells": [
  {
   "cell_type": "markdown",
   "metadata": {},
   "source": [
    "# Explore PartGlot Transformatinos\n",
    "\n",
    "## Purpose of this notebook\n",
    "\n",
    "> Present preprocessing required for PartGlot and how to undo it. Based on ShapeNet raw point cloud."
   ]
  },
  {
   "cell_type": "code",
   "execution_count": 1,
   "metadata": {},
   "outputs": [
    {
     "name": "stdout",
     "output_type": "stream",
     "text": [
      "runing\n"
     ]
    }
   ],
   "source": [
    "%load_ext autoreload\n",
    "%autoreload 2\n",
    "print('runing')\n"
   ]
  },
  {
   "cell_type": "code",
   "execution_count": 2,
   "metadata": {},
   "outputs": [],
   "source": [
    "from src.partglot.utils.partglot_bspnet_preprocess import transform_pointcloud, untransform_pointcloud\n",
    "from src.helper.visualization import visualize_pointclouds_parts_partglot\n",
    "from src.helper.paths import pg2shapenet\n",
    "import numpy as np"
   ]
  },
  {
   "cell_type": "code",
   "execution_count": 11,
   "metadata": {},
   "outputs": [
    {
     "name": "stdout",
     "output_type": "stream",
     "text": [
      "Visualization rendering started...\n"
     ]
    },
    {
     "data": {
      "application/vnd.jupyter.widget-view+json": {
       "model_id": "3b7892b5d11a490aa4e8ae670f5cf68b",
       "version_major": 2,
       "version_minor": 0
      },
      "text/plain": [
       "Output()"
      ]
     },
     "metadata": {},
     "output_type": "display_data"
    }
   ],
   "source": [
    "idx = 40\n",
    "pc = np.loadtxt(pg2shapenet[idx]['pc'])\n",
    "transformed_pc = transform_pointcloud(pc)\n",
    "untransformed_pc = untransform_pointcloud(transformed_pc)\n",
    "visualize_pointclouds_parts_partglot([pc, transformed_pc['pc'], untransformed_pc], names=[\"original_pc\", \"transformed_pc\", \"untransformed_pc\"], opacity=0.3)"
   ]
  }
 ],
 "metadata": {
  "kernelspec": {
   "display_name": "Python 3.9.13 ('dl3d')",
   "language": "python",
   "name": "python3"
  },
  "language_info": {
   "codemirror_mode": {
    "name": "ipython",
    "version": 3
   },
   "file_extension": ".py",
   "mimetype": "text/x-python",
   "name": "python",
   "nbconvert_exporter": "python",
   "pygments_lexer": "ipython3",
   "version": "3.9.13"
  },
  "orig_nbformat": 4,
  "vscode": {
   "interpreter": {
    "hash": "5edac632bc030e698bde792f49d6429b3d15e7fbac06b4787d1057cf5bdd41d1"
   }
  }
 },
 "nbformat": 4,
 "nbformat_minor": 2
}
