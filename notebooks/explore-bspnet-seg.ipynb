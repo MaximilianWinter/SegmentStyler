{
 "cells": [
  {
   "cell_type": "code",
   "execution_count": 216,
   "metadata": {},
   "outputs": [],
   "source": [
    "import h5py\n",
    "from src.helper.visualization import visualize_pointclouds_parts_partglot\n",
    "import numpy as np\n",
    "bsp_net_data_path = '/home/bellatini/DL3D-Practical/Baselines/BSP-NET-pytorch/data/data_per_category/03001627_seg_chair/03001627_seg256.hdf5'\n",
    "bsp_net_data_path = '/home/bellatini/DL3D-Practical/Baselines/BSP-NET-pytorch/data/data_per_category/03001627_chair/03001627_vox256_img_test.hdf5'\n",
    "cmap = [0xff0000, 0x00ff00, 0x0000ff, 0xff00ff, 0xffff00, 0x00ffff]\n"
   ]
  },
  {
   "cell_type": "code",
   "execution_count": 7,
   "metadata": {},
   "outputs": [],
   "source": [
    "h5_data = h5py.File(bsp_net_data_path)"
   ]
  },
  {
   "cell_type": "code",
   "execution_count": 9,
   "metadata": {},
   "outputs": [
    {
     "data": {
      "text/plain": [
       "['pixels',\n",
       " 'points_16',\n",
       " 'points_32',\n",
       " 'points_64',\n",
       " 'values_16',\n",
       " 'values_32',\n",
       " 'values_64',\n",
       " 'voxels']"
      ]
     },
     "execution_count": 9,
     "metadata": {},
     "output_type": "execute_result"
    }
   ],
   "source": [
    "list(h5_data.keys())"
   ]
  },
  {
   "cell_type": "code",
   "execution_count": 124,
   "metadata": {},
   "outputs": [
    {
     "name": "stdout",
     "output_type": "stream",
     "text": [
      "\n",
      "r=16\n",
      "<HDF5 dataset \"pixels\": shape (1356, 24, 137, 137), type \"|u1\">\n",
      "<HDF5 dataset \"points_16\": shape (1356, 4096, 3), type \"|u1\">\n",
      "<HDF5 dataset \"values_16\": shape (1356, 4096, 1), type \"|u1\">\n",
      "<HDF5 dataset \"voxels\": shape (1356, 64, 64, 64, 1), type \"|u1\">\n",
      "\n",
      "r=32\n",
      "<HDF5 dataset \"pixels\": shape (1356, 24, 137, 137), type \"|u1\">\n",
      "<HDF5 dataset \"points_32\": shape (1356, 4096, 3), type \"|u1\">\n",
      "<HDF5 dataset \"values_32\": shape (1356, 4096, 1), type \"|u1\">\n",
      "<HDF5 dataset \"voxels\": shape (1356, 64, 64, 64, 1), type \"|u1\">\n",
      "\n",
      "r=64\n",
      "<HDF5 dataset \"pixels\": shape (1356, 24, 137, 137), type \"|u1\">\n",
      "<HDF5 dataset \"points_64\": shape (1356, 16384, 3), type \"|u1\">\n",
      "<HDF5 dataset \"values_64\": shape (1356, 16384, 1), type \"|u1\">\n",
      "<HDF5 dataset \"voxels\": shape (1356, 64, 64, 64, 1), type \"|u1\">\n"
     ]
    },
    {
     "data": {
      "text/plain": [
       "64"
      ]
     },
     "execution_count": 124,
     "metadata": {},
     "output_type": "execute_result"
    }
   ],
   "source": [
    "resolutions = [16, 32, 64] \n",
    "for r in resolutions:\n",
    "    print(f\"\\nr={r}\")\n",
    "    print(h5_data['pixels'])\n",
    "    print(h5_data[f'points_{r}'])\n",
    "    print(h5_data[f'values_{r}'])\n",
    "    print(h5_data['voxels'])\n",
    "    \n",
    "    \n",
    "res = resolutions[2]\n",
    "\n",
    "res"
   ]
  },
  {
   "cell_type": "code",
   "execution_count": 123,
   "metadata": {},
   "outputs": [
    {
     "data": {
      "text/plain": [
       "array([255, 255, 255, 255, 255, 255, 255, 255, 255, 255, 255, 255, 255,\n",
       "       255, 255, 255, 255, 255, 255, 255, 255, 255, 255, 255, 255, 255,\n",
       "       255, 255, 255, 255, 255, 255, 255, 255, 255, 255, 255, 255, 255,\n",
       "       255, 255, 255, 255, 255, 255, 255, 255, 255, 255, 255, 255, 255,\n",
       "       255, 255, 255, 255, 255, 255, 255, 255, 255, 255, 255, 255, 255,\n",
       "       255, 255, 255, 255, 255, 255, 255, 255, 255, 255, 255, 255, 255,\n",
       "       255, 255, 255, 255, 255, 255, 255, 255, 255, 255, 255, 255, 255,\n",
       "       255, 255, 255, 255, 255, 255, 255, 255, 255, 255, 255, 255, 255,\n",
       "       255, 255, 255, 255, 255, 255, 255, 248, 150,  87,  88,  88,  89,\n",
       "       103, 241, 255, 255, 255, 255, 255, 255, 255, 255, 255, 255, 255,\n",
       "       255, 255, 255, 255, 255, 255, 255], dtype=uint8)"
      ]
     },
     "execution_count": 123,
     "metadata": {},
     "output_type": "execute_result"
    }
   ],
   "source": [
    "h5_data['pixels'][0][0].mean(axis=0)\n",
    "h5_data['pixels'][0][0]\n",
    "h5_data['pixels'][0][0][27]"
   ]
  },
  {
   "cell_type": "code",
   "execution_count": 134,
   "metadata": {},
   "outputs": [
    {
     "name": "stdout",
     "output_type": "stream",
     "text": [
      "(1356, 16384, 1)\n"
     ]
    },
    {
     "data": {
      "text/plain": [
       "(array([0, 1], dtype=uint8), array([9838, 6546]))"
      ]
     },
     "execution_count": 134,
     "metadata": {},
     "output_type": "execute_result"
    }
   ],
   "source": [
    "print(h5_data[f'values_{r}'][:].shape)\n",
    "np.unique(h5_data[f'values_{r}'][0], return_counts=True)"
   ]
  },
  {
   "cell_type": "code",
   "execution_count": 231,
   "metadata": {},
   "outputs": [
    {
     "name": "stdout",
     "output_type": "stream",
     "text": [
      "Visualization rendering started...\n"
     ]
    },
    {
     "data": {
      "application/vnd.jupyter.widget-view+json": {
       "model_id": "8cc82abb2ddf4a5595de668a8c3b18d2",
       "version_major": 2,
       "version_minor": 0
      },
      "text/plain": [
       "Output()"
      ]
     },
     "metadata": {},
     "output_type": "display_data"
    }
   ],
   "source": [
    "idx = 5\n",
    "\n",
    "pc = h5_data[f'points_{res}'][idx]\n",
    "\n",
    "mask = h5_data[f'values_{r}'][idx].astype(bool)\n",
    "# print(f\"mask.shape={mask.shape}\")\n",
    "# print(f\"mask={mask}\")\n",
    "mask = (np.ones((mask.shape[0], 3)) * mask).astype(bool)\n",
    "# print(f\"mask.shape={mask.shape}\")\n",
    "mask\n",
    "\n",
    "pc[mask].reshape((-1, 3)).shape, pc.shape\n",
    "\n",
    "segmented_pc = np.array([\n",
    "    pc[mask].reshape((-1,3)), \n",
    "    # pc[~mask].reshape((-1,3))\n",
    "    ])\n",
    "\n",
    "# pc = np.array([h5_data[f'points_{64}'][idx]])\n",
    "visualize_pointclouds_parts_partglot(segmented_pc, point_size=2, opacity=0.4, part_colors=cmap)"
   ]
  },
  {
   "cell_type": "code",
   "execution_count": 188,
   "metadata": {},
   "outputs": [
    {
     "name": "stdout",
     "output_type": "stream",
     "text": [
      "mask.shape=(16384, 1)\n",
      "mask=[[False]\n",
      " [False]\n",
      " [ True]\n",
      " ...\n",
      " [False]\n",
      " [False]\n",
      " [False]]\n",
      "mask.shape=(16384, 3)\n"
     ]
    },
    {
     "data": {
      "text/plain": [
       "array([[False, False, False],\n",
       "       [False, False, False],\n",
       "       [ True,  True,  True],\n",
       "       ...,\n",
       "       [False, False, False],\n",
       "       [False, False, False],\n",
       "       [False, False, False]])"
      ]
     },
     "execution_count": 188,
     "metadata": {},
     "output_type": "execute_result"
    }
   ],
   "source": []
  },
  {
   "cell_type": "code",
   "execution_count": 196,
   "metadata": {},
   "outputs": [
    {
     "name": "stderr",
     "output_type": "stream",
     "text": [
      "/tmp/ipykernel_1062166/2620933494.py:3: VisibleDeprecationWarning: Creating an ndarray from ragged nested sequences (which is a list-or-tuple of lists-or-tuples-or ndarrays with different lengths or shapes) is deprecated. If you meant to do this, you must specify 'dtype=object' when creating the ndarray.\n",
      "  segmented_pc = np.array([pc[mask].reshape((-1,3)), pc[~mask].reshape((-1,3))])\n"
     ]
    }
   ],
   "source": []
  },
  {
   "cell_type": "code",
   "execution_count": 212,
   "metadata": {},
   "outputs": [
    {
     "name": "stdout",
     "output_type": "stream",
     "text": [
      "Visualization rendering started...\n"
     ]
    },
    {
     "data": {
      "application/vnd.jupyter.widget-view+json": {
       "model_id": "11bb055e00ca4961940a43d708f3cf3b",
       "version_major": 2,
       "version_minor": 0
      },
      "text/plain": [
       "Output()"
      ]
     },
     "metadata": {},
     "output_type": "display_data"
    }
   ],
   "source": []
  },
  {
   "cell_type": "code",
   "execution_count": 28,
   "metadata": {},
   "outputs": [
    {
     "data": {
      "text/plain": [
       "(1, 4096, 3)"
      ]
     },
     "execution_count": 28,
     "metadata": {},
     "output_type": "execute_result"
    }
   ],
   "source": []
  },
  {
   "cell_type": "code",
   "execution_count": 16,
   "metadata": {},
   "outputs": [
    {
     "data": {
      "text/plain": [
       "['pixels',\n",
       " 'points_16',\n",
       " 'points_32',\n",
       " 'points_64',\n",
       " 'values_16',\n",
       " 'values_32',\n",
       " 'values_64',\n",
       " 'voxels']"
      ]
     },
     "execution_count": 16,
     "metadata": {},
     "output_type": "execute_result"
    }
   ],
   "source": [
    "list(h5_data.keys())"
   ]
  },
  {
   "cell_type": "code",
   "execution_count": 17,
   "metadata": {},
   "outputs": [
    {
     "data": {
      "text/plain": [
       "18769"
      ]
     },
     "execution_count": 17,
     "metadata": {},
     "output_type": "execute_result"
    }
   ],
   "source": [
    "137*137"
   ]
  },
  {
   "cell_type": "code",
   "execution_count": null,
   "metadata": {},
   "outputs": [],
   "source": []
  }
 ],
 "metadata": {
  "kernelspec": {
   "display_name": "Python 3.9.13 ('dl3d')",
   "language": "python",
   "name": "python3"
  },
  "language_info": {
   "codemirror_mode": {
    "name": "ipython",
    "version": 3
   },
   "file_extension": ".py",
   "mimetype": "text/x-python",
   "name": "python",
   "nbconvert_exporter": "python",
   "pygments_lexer": "ipython3",
   "version": "3.9.13"
  },
  "orig_nbformat": 4,
  "vscode": {
   "interpreter": {
    "hash": "5edac632bc030e698bde792f49d6429b3d15e7fbac06b4787d1057cf5bdd41d1"
   }
  }
 },
 "nbformat": 4,
 "nbformat_minor": 2
}
