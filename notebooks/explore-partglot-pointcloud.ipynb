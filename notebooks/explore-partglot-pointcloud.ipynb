{
 "cells": [
  {
   "cell_type": "code",
   "execution_count": 1,
   "metadata": {},
   "outputs": [],
   "source": [
    "%load_ext autoreload\n",
    "%autoreload 2"
   ]
  },
  {
   "cell_type": "code",
   "execution_count": 2,
   "metadata": {},
   "outputs": [
    {
     "data": {
      "text/plain": [
       "PosixPath('/home/bellatini/DL3D-Practical/Baselines')"
      ]
     },
     "execution_count": 2,
     "metadata": {},
     "output_type": "execute_result"
    }
   ],
   "source": [
    "import numpy as np\n",
    "import os\n",
    "import h5py\n",
    "from src.helper.paths import BASELINES_PATH\n",
    "from partglot.utils.simple_utils import unpickle_data\n",
    "from src.helper.visualization import visualize_pointcloud, visualize_pointclouds_parts_partglot"
   ]
  },
  {
   "cell_type": "code",
   "execution_count": 3,
   "metadata": {},
   "outputs": [],
   "source": [
    "data_dir = BASELINES_PATH / 'PartGlot/data'\n",
    "\n",
    "h5_data = h5py.File(data_dir / \"shapenet_partseg_chair_bsp.h5\")\n",
    "segs_data = h5_data[\"data\"][:].astype(np.float32)\n",
    "segs_mask = h5_data[\"mask\"][:].astype(np.float32)\n",
    "\n",
    "groundtruths, signed_distances = unpickle_data(data_dir / \"shapenet_partseg_chair_label_and_sd.pkl\")"
   ]
  },
  {
   "cell_type": "code",
   "execution_count": 116,
   "metadata": {},
   "outputs": [
    {
     "data": {
      "text/plain": [
       "((50, 512, 3), (50,), (2691,), (2691, 25))"
      ]
     },
     "execution_count": 116,
     "metadata": {},
     "output_type": "execute_result"
    }
   ],
   "source": [
    "segs_data[0].shape, segs_mask[0].shape, groundtruths[0].shape, signed_distances[0].shape"
   ]
  },
  {
   "cell_type": "code",
   "execution_count": 6,
   "metadata": {},
   "outputs": [
    {
     "data": {
      "application/vnd.jupyter.widget-view+json": {
       "model_id": "504923595daf4bf6b4b742bc6cc50a59",
       "version_major": 2,
       "version_minor": 0
      },
      "text/plain": [
       "Output()"
      ]
     },
     "metadata": {},
     "output_type": "display_data"
    }
   ],
   "source": [
    "visualize_pointclouds_parts_partglot(point_clouds=segs_data[0])"
   ]
  },
  {
   "cell_type": "code",
   "execution_count": 74,
   "metadata": {},
   "outputs": [
    {
     "name": "stdout",
     "output_type": "stream",
     "text": [
      "var_name: segs_mask\n",
      "\n",
      "shape: (3746, 50)\n",
      "\n",
      "var:\n",
      "[[1. 1. 1. ... 0. 0. 0.]\n",
      " [1. 1. 1. ... 0. 0. 0.]\n",
      " [1. 1. 1. ... 0. 0. 0.]\n",
      " ...\n",
      " [1. 1. 1. ... 0. 0. 0.]\n",
      " [1. 1. 1. ... 0. 0. 0.]\n",
      " [1. 1. 1. ... 0. 0. 0.]]\n",
      "\n",
      "uniques:\n",
      "(array([0., 1.], dtype=float32), array([118182,  69118]))\n",
      "\n",
      "elementwise distr:\n",
      "[100. 100. 100. 100. 100. 100. 100.  99.  98.  96.  93.  89.  84.  79.\n",
      "  73.  65.  58.  51.  44.  39.  32.  28.  23.  20.  16.  13.  11.   9.\n",
      "   7.   6.   4.   3.   2.   1.   1.   0.   0.   0.   0.   0.   0.   0.\n",
      "   0.   0.   0.   0.   0.   0.   0.   0.]\n",
      "\n",
      "rowwise_cnt:\n",
      "(array([ 3.,  4.,  6.,  7.,  8.,  9., 10., 11., 12., 13., 14., 15., 16.,\n",
      "       17., 18., 19., 20., 21., 22., 23., 24., 25., 26., 27., 28., 29.,\n",
      "       30., 31., 32., 33., 34., 35., 36., 37., 38.], dtype=float32), array([  1,   1,   2,  18,  39,  72, 129, 150, 185, 187, 242, 291, 272,\n",
      "       249, 242, 216, 241, 164, 166, 143, 129, 110,  86,  72,  66,  66,\n",
      "        47,  45,  49,  28,  16,  10,   6,   4,   2]))\n",
      "\n"
     ]
    }
   ],
   "source": [
    "var = segs_mask\n",
    "shape = var.shape\n",
    "uniques = np.unique(var, return_counts=True)\n",
    "distr = np.round(var.mean(axis=0) * 100)\n",
    "rowwise_cnt = np.unique(var.sum(axis=1), return_counts=True)\n",
    "\n",
    "print(f\"var_name: segs_mask\\n\")\n",
    "print(f\"shape: {shape}\\n\")\n",
    "print(f\"var:\\n{var}\\n\")\n",
    "print(f\"uniques:\\n{uniques}\\n\")\n",
    "print(f\"elementwise distr:\\n{distr}\\n\")\n",
    "print(f\"rowwise_cnt:\\n{rowwise_cnt}\\n\")"
   ]
  }
 ],
 "metadata": {
  "kernelspec": {
   "display_name": "Python 3.9.13 ('dl3d')",
   "language": "python",
   "name": "python3"
  },
  "language_info": {
   "codemirror_mode": {
    "name": "ipython",
    "version": 3
   },
   "file_extension": ".py",
   "mimetype": "text/x-python",
   "name": "python",
   "nbconvert_exporter": "python",
   "pygments_lexer": "ipython3",
   "version": "3.9.13"
  },
  "orig_nbformat": 4,
  "vscode": {
   "interpreter": {
    "hash": "5edac632bc030e698bde792f49d6429b3d15e7fbac06b4787d1057cf5bdd41d1"
   }
  }
 },
 "nbformat": 4,
 "nbformat_minor": 2
}
