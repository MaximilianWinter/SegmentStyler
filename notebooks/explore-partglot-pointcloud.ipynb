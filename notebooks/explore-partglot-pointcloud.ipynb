{
 "cells": [
  {
   "cell_type": "code",
   "execution_count": 1,
   "metadata": {},
   "outputs": [],
   "source": [
    "%load_ext autoreload\n",
    "%autoreload 2"
   ]
  },
  {
   "cell_type": "code",
   "execution_count": 2,
   "metadata": {},
   "outputs": [
    {
     "data": {
      "text/plain": [
       "PosixPath('/home/bellatini/DL3D-Practical/Baselines')"
      ]
     },
     "execution_count": 2,
     "metadata": {},
     "output_type": "execute_result"
    }
   ],
   "source": [
    "import numpy as np\n",
    "import os\n",
    "import h5py\n",
    "from src.helper.paths import BASELINES_PATH\n",
    "from partglot.utils.simple_utils import unpickle_data\n",
    "from src.helper.visualization import visualize_pointcloud, visualize_pointclouds_parts_partglot"
   ]
  },
  {
   "cell_type": "code",
   "execution_count": 3,
   "metadata": {},
   "outputs": [],
   "source": [
    "data_dir = BASELINES_PATH / 'PartGlot/data'\n",
    "\n",
    "h5_data = h5py.File(data_dir / \"shapenet_partseg_chair_bsp.h5\")\n",
    "segs_data = h5_data[\"data\"][:].astype(np.float32)\n",
    "segs_mask = h5_data[\"mask\"][:].astype(np.float32)\n",
    "\n",
    "groundtruths, signed_distances = unpickle_data(data_dir / \"shapenet_partseg_chair_label_and_sd.pkl\")"
   ]
  },
  {
   "cell_type": "code",
   "execution_count": 143,
   "metadata": {},
   "outputs": [
    {
     "data": {
      "text/plain": [
       "'3746 samples'"
      ]
     },
     "execution_count": 143,
     "metadata": {},
     "output_type": "execute_result"
    }
   ],
   "source": [
    "f\"{segs_data.shape[0]} samples\""
   ]
  },
  {
   "cell_type": "code",
   "execution_count": 139,
   "metadata": {},
   "outputs": [
    {
     "name": "stdout",
     "output_type": "stream",
     "text": [
      "i={i}, segs_data[i].shape, segs_mask[i].shape, groundtruths[i].shape, np.unique(groundtruths[0]), signed_distances[i].shape, segs_mask[i].sum()\n",
      "i=0 (50, 512, 3) (50,) (2691,) [0. 1. 2.] (2691, 25) 25.0\n",
      "i=1 (50, 512, 3) (50,) (2755,) [0. 1. 2.] (2755, 16) 16.0\n",
      "i=2 (50, 512, 3) (50,) (2645,) [0. 1. 2.] (2645, 15) 15.0\n",
      "i=3 (50, 512, 3) (50,) (2543,) [0. 1. 2.] (2543, 24) 24.0\n",
      "i=4 (50, 512, 3) (50,) (2733,) [0. 1. 2.] (2733, 20) 20.0\n",
      "i=5 (50, 512, 3) (50,) (2755,) [0. 1. 2.] (2755, 27) 27.0\n",
      "i=6 (50, 512, 3) (50,) (2713,) [0. 1. 2.] (2713, 11) 11.0\n",
      "i=7 (50, 512, 3) (50,) (2690,) [0. 1. 2.] (2690, 14) 14.0\n",
      "i=8 (50, 512, 3) (50,) (2776,) [0. 1. 2.] (2776, 33) 33.0\n",
      "i=9 (50, 512, 3) (50,) (2745,) [0. 1. 2.] (2745, 20) 20.0\n"
     ]
    }
   ],
   "source": [
    "print(\"i={i}, segs_data[i].shape, segs_mask[i].shape, groundtruths[i].shape, np.unique(groundtruths[0]), signed_distances[i].shape, segs_mask[i].sum()\")\n",
    "for i in range(10):\n",
    "    print(f\"i={i}\", segs_data[i].shape, segs_mask[i].shape, groundtruths[i].shape, np.unique(groundtruths[0]), signed_distances[i].shape, segs_mask[i].sum())"
   ]
  },
  {
   "cell_type": "code",
   "execution_count": 124,
   "metadata": {},
   "outputs": [
    {
     "data": {
      "text/plain": [
       "(array([2., 2., 1., ..., 1., 0., 2.]),\n",
       " array([[-0.35771083, -0.43322745, -0.01597902, ..., -0.4374695 ,\n",
       "         -0.33557525, -0.01126467],\n",
       "        [-0.36145894, -0.35338036, -0.13286862, ..., -0.4243072 ,\n",
       "         -0.31539087,  0.00559162],\n",
       "        [-0.07137045, -0.25126013, -0.35033128, ..., -0.13167291,\n",
       "         -0.06351087, -0.35956461],\n",
       "        ...,\n",
       "        [-0.15504879, -0.04712584, -0.35585565, ..., -0.1324528 ,\n",
       "         -0.00201913, -0.32383671],\n",
       "        [-0.19709464, -0.01711427, -0.44673964, ..., -0.09241462,\n",
       "         -0.0885952 , -0.40675186],\n",
       "        [-0.37528644, -0.43743455,  0.00807282, ..., -0.45631713,\n",
       "         -0.29880813, -0.17426545]]))"
      ]
     },
     "execution_count": 124,
     "metadata": {},
     "output_type": "execute_result"
    }
   ],
   "source": [
    "groundtruths[0], signed_distances[0]"
   ]
  },
  {
   "cell_type": "code",
   "execution_count": 6,
   "metadata": {},
   "outputs": [
    {
     "data": {
      "application/vnd.jupyter.widget-view+json": {
       "model_id": "504923595daf4bf6b4b742bc6cc50a59",
       "version_major": 2,
       "version_minor": 0
      },
      "text/plain": [
       "Output()"
      ]
     },
     "metadata": {},
     "output_type": "display_data"
    }
   ],
   "source": [
    "visualize_pointclouds_parts_partglot(point_clouds=segs_data[0])"
   ]
  },
  {
   "cell_type": "code",
   "execution_count": 74,
   "metadata": {},
   "outputs": [
    {
     "name": "stdout",
     "output_type": "stream",
     "text": [
      "var_name: segs_mask\n",
      "\n",
      "shape: (3746, 50)\n",
      "\n",
      "var:\n",
      "[[1. 1. 1. ... 0. 0. 0.]\n",
      " [1. 1. 1. ... 0. 0. 0.]\n",
      " [1. 1. 1. ... 0. 0. 0.]\n",
      " ...\n",
      " [1. 1. 1. ... 0. 0. 0.]\n",
      " [1. 1. 1. ... 0. 0. 0.]\n",
      " [1. 1. 1. ... 0. 0. 0.]]\n",
      "\n",
      "uniques:\n",
      "(array([0., 1.], dtype=float32), array([118182,  69118]))\n",
      "\n",
      "elementwise distr:\n",
      "[100. 100. 100. 100. 100. 100. 100.  99.  98.  96.  93.  89.  84.  79.\n",
      "  73.  65.  58.  51.  44.  39.  32.  28.  23.  20.  16.  13.  11.   9.\n",
      "   7.   6.   4.   3.   2.   1.   1.   0.   0.   0.   0.   0.   0.   0.\n",
      "   0.   0.   0.   0.   0.   0.   0.   0.]\n",
      "\n",
      "rowwise_cnt:\n",
      "(array([ 3.,  4.,  6.,  7.,  8.,  9., 10., 11., 12., 13., 14., 15., 16.,\n",
      "       17., 18., 19., 20., 21., 22., 23., 24., 25., 26., 27., 28., 29.,\n",
      "       30., 31., 32., 33., 34., 35., 36., 37., 38.], dtype=float32), array([  1,   1,   2,  18,  39,  72, 129, 150, 185, 187, 242, 291, 272,\n",
      "       249, 242, 216, 241, 164, 166, 143, 129, 110,  86,  72,  66,  66,\n",
      "        47,  45,  49,  28,  16,  10,   6,   4,   2]))\n",
      "\n"
     ]
    }
   ],
   "source": [
    "var = segs_mask\n",
    "shape = var.shape\n",
    "uniques = np.unique(var, return_counts=True)\n",
    "distr = np.round(var.mean(axis=0) * 100)\n",
    "rowwise_cnt = np.unique(var.sum(axis=1), return_counts=True)\n",
    "\n",
    "print(f\"var_name: segs_mask\\n\")\n",
    "print(f\"shape: {shape}\\n\")\n",
    "print(f\"var:\\n{var}\\n\")\n",
    "print(f\"uniques:\\n{uniques}\\n\")\n",
    "print(f\"elementwise distr:\\n{distr}\\n\")\n",
    "print(f\"rowwise_cnt:\\n{rowwise_cnt}\\n\")"
   ]
  }
 ],
 "metadata": {
  "kernelspec": {
   "display_name": "Python 3.9.13 ('dl3d')",
   "language": "python",
   "name": "python3"
  },
  "language_info": {
   "codemirror_mode": {
    "name": "ipython",
    "version": 3
   },
   "file_extension": ".py",
   "mimetype": "text/x-python",
   "name": "python",
   "nbconvert_exporter": "python",
   "pygments_lexer": "ipython3",
   "version": "3.9.13"
  },
  "orig_nbformat": 4,
  "vscode": {
   "interpreter": {
    "hash": "5edac632bc030e698bde792f49d6429b3d15e7fbac06b4787d1057cf5bdd41d1"
   }
  }
 },
 "nbformat": 4,
 "nbformat_minor": 2
}
